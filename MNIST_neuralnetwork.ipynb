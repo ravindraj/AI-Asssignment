{
  "nbformat": 4,
  "nbformat_minor": 0,
  "metadata": {
    "colab": {
      "name": "Untitled3.ipynb",
      "version": "0.3.2",
      "views": {},
      "default_view": {},
      "provenance": []
    },
    "kernelspec": {
      "name": "python3",
      "display_name": "Python 3"
    }
  },
  "cells": [
    {
      "metadata": {
        "id": "KjVwSc_WZ7aw",
        "colab_type": "code",
        "colab": {
          "autoexec": {
            "startup": false,
            "wait_interval": 0
          }
        }
      },
      "cell_type": "code",
      "source": [
        "import numpy\n",
        "from keras.datasets import mnist\n",
        "from keras.models import Sequential\n",
        "from keras.layers import Dense\n",
        "from keras.layers import Dropout\n",
        "from keras.utils import np_utils\n",
        "from keras import optimizers\n",
        "import matplotlib.pyplot as plt"
      ],
      "execution_count": 0,
      "outputs": []
    },
    {
      "metadata": {
        "id": "s8FYFepOaAfg",
        "colab_type": "code",
        "colab": {
          "autoexec": {
            "startup": false,
            "wait_interval": 0
          }
        }
      },
      "cell_type": "code",
      "source": [
        "# fix random seed for reproducibility\n",
        "seed = 7\n",
        "numpy.random.seed(seed)"
      ],
      "execution_count": 0,
      "outputs": []
    },
    {
      "metadata": {
        "id": "iPqlZrqtaE1y",
        "colab_type": "code",
        "colab": {
          "autoexec": {
            "startup": false,
            "wait_interval": 0
          }
        }
      },
      "cell_type": "code",
      "source": [
        "(X_train, y_train), (X_test, y_test) = mnist.load_data()\n"
      ],
      "execution_count": 0,
      "outputs": []
    },
    {
      "metadata": {
        "id": "eAf_syGIaHiH",
        "colab_type": "code",
        "colab": {
          "autoexec": {
            "startup": false,
            "wait_interval": 0
          }
        }
      },
      "cell_type": "code",
      "source": [
        "num_pixels = X_train.shape[1] * X_train.shape[2]\n",
        "X_train = X_train.reshape(X_train.shape[0], num_pixels).astype('float32')\n",
        "X_test = X_test.reshape(X_test.shape[0], num_pixels).astype('float32')"
      ],
      "execution_count": 0,
      "outputs": []
    },
    {
      "metadata": {
        "id": "4Kg7KTwYaLyq",
        "colab_type": "code",
        "colab": {
          "autoexec": {
            "startup": false,
            "wait_interval": 0
          }
        }
      },
      "cell_type": "code",
      "source": [
        "# normalize inputs from 0-255 to 0-1\n",
        "X_train = X_train / 255\n",
        "X_test = X_test / 255"
      ],
      "execution_count": 0,
      "outputs": []
    },
    {
      "metadata": {
        "id": "zfEx7bOXaOza",
        "colab_type": "code",
        "colab": {
          "autoexec": {
            "startup": false,
            "wait_interval": 0
          }
        }
      },
      "cell_type": "code",
      "source": [
        "# one hot encode outputs\n",
        "y_train = np_utils.to_categorical(y_train)\n",
        "y_test = np_utils.to_categorical(y_test)\n",
        "num_classes = y_test.shape[1]"
      ],
      "execution_count": 0,
      "outputs": []
    },
    {
      "metadata": {
        "id": "yJHa-PqZaUVH",
        "colab_type": "code",
        "colab": {
          "autoexec": {
            "startup": false,
            "wait_interval": 0
          }
        }
      },
      "cell_type": "code",
      "source": [
        "def baseline_model(optimizer):\n",
        "  # create model\n",
        "  model = Sequential()\n",
        "  model.add(Dense(num_pixels, input_dim=num_pixels, kernel_initializer='normal', activation='relu'))\n",
        "  model.add(Dense(num_classes, kernel_initializer='normal', activation='softmax'))\n",
        "  # Compile model\n",
        "  \n",
        "  if(optimizer == \"SGD\"):\n",
        "    sgd = optimizers.SGD(lr=0.01, decay = 1e-6, momentum=0.9, nesterov = True)\n",
        "  \n",
        "  elif(optimizer == \"RMSprop\"):\n",
        "    sgd = optimizers.RMSprop(lr=0.001, rho=0.9, epsilon=None, decay=0.0)\n",
        "    \n",
        "  elif(optimizer == \"Adagrad\"):\n",
        "    sgd = optimizers.Adagrad(lr=0.01, epsilon=None, decay=0.0)\n",
        "  \n",
        "  elif(optimizer == \"Adadelta\"):\n",
        "    sgd = optimizers.Adadelta(lr=1.0, rho=0.95, epsilon=None, decay=0.0)\n",
        "  \n",
        "  elif(optimizer == \"Adam\"):\n",
        "    sgd = optimizers.Adam(lr=0.001, beta_1=0.9, beta_2=0.999, epsilon=None, decay=0.0, amsgrad=False)\n",
        "\n",
        "  elif(optimizer == \"Adamax\"):\n",
        "    sgd = optimizers.Adamax(lr=0.002, beta_1=0.9, beta_2=0.999, epsilon=None, decay=0.0)\n",
        "\n",
        "  elif(optimizer == \"Nadam\"):\n",
        "    sgd = optimizers.Nadam(lr=0.002, beta_1=0.9, beta_2=0.999, epsilon=None, schedule_decay=0.004)\n",
        "\n",
        "  elif(optimizer == \"TFOptimizer\"):\n",
        "    sgd = optimizers.TFOptimizer(optimizer)\n",
        "    \n",
        "    \n",
        "  model.compile(loss='categorical_crossentropy', optimizer=sgd, metrics=['accuracy'])\n",
        "  return model"
      ],
      "execution_count": 0,
      "outputs": []
    },
    {
      "metadata": {
        "id": "hFzUhxaZaX3z",
        "colab_type": "code",
        "colab": {
          "autoexec": {
            "startup": false,
            "wait_interval": 0
          }
        }
      },
      "cell_type": "code",
      "source": [
        "# build the model\n",
        "\n",
        "def Model(optimizer):\n",
        "  model = baseline_model(optimizer)\n",
        "  # Fit the model\n",
        "  history = model.fit(X_train, y_train, validation_data=(X_test, y_test), epochs=10, batch_size=200, verbose=2)\n",
        "  # Final evaluation of the model\n",
        "  scores = model.evaluate(X_test, y_test, verbose=0)\n",
        "  print(\"Baseline Error: %.2f%%\" % (100-scores[1]*100))\n",
        "  print(\"Accuracy of {} model is {} % \".format(optimizer,scores[1]*100))\n",
        "  return history "
      ],
      "execution_count": 0,
      "outputs": []
    },
    {
      "metadata": {
        "id": "cBGOM0Cld8MQ",
        "colab_type": "code",
        "colab": {
          "autoexec": {
            "startup": false,
            "wait_interval": 0
          },
          "output_extras": [
            {
              "item_id": 20
            }
          ],
          "base_uri": "https://localhost:8080/",
          "height": 408
        },
        "outputId": "633980c5-116a-40a5-eb52-e5aec9f6eddd",
        "executionInfo": {
          "status": "ok",
          "timestamp": 1519656391730,
          "user_tz": -330,
          "elapsed": 42972,
          "user": {
            "displayName": "Ravindra Jonwal",
            "photoUrl": "//lh4.googleusercontent.com/-Zdd5G07d1to/AAAAAAAAAAI/AAAAAAAAAYg/4_TOX2VRjGQ/s50-c-k-no/photo.jpg",
            "userId": "100109715466188692487"
          }
        }
      },
      "cell_type": "code",
      "source": [
        "SGDHistory = Model(\"SGD\")"
      ],
      "execution_count": 40,
      "outputs": [
        {
          "output_type": "stream",
          "text": [
            "Train on 60000 samples, validate on 10000 samples\n",
            "Epoch 1/10\n",
            " - 4s - loss: 0.5110 - acc: 0.8629 - val_loss: 0.2909 - val_acc: 0.9182\n",
            "Epoch 2/10\n",
            " - 4s - loss: 0.2736 - acc: 0.9237 - val_loss: 0.2383 - val_acc: 0.9329\n",
            "Epoch 3/10\n",
            " - 4s - loss: 0.2281 - acc: 0.9367 - val_loss: 0.2097 - val_acc: 0.9402\n",
            "Epoch 4/10\n",
            " - 4s - loss: 0.1973 - acc: 0.9456 - val_loss: 0.1836 - val_acc: 0.9486\n",
            "Epoch 5/10\n",
            " - 4s - loss: 0.1741 - acc: 0.9513 - val_loss: 0.1667 - val_acc: 0.9526\n",
            "Epoch 6/10\n",
            " - 4s - loss: 0.1553 - acc: 0.9571 - val_loss: 0.1526 - val_acc: 0.9563\n",
            "Epoch 7/10\n",
            " - 4s - loss: 0.1403 - acc: 0.9611 - val_loss: 0.1407 - val_acc: 0.9594\n",
            "Epoch 8/10\n",
            " - 4s - loss: 0.1279 - acc: 0.9648 - val_loss: 0.1313 - val_acc: 0.9623\n",
            "Epoch 9/10\n",
            " - 4s - loss: 0.1173 - acc: 0.9680 - val_loss: 0.1220 - val_acc: 0.9644\n",
            "Epoch 10/10\n",
            " - 4s - loss: 0.1082 - acc: 0.9705 - val_loss: 0.1144 - val_acc: 0.9670\n",
            "Baseline Error: 3.30%\n",
            "Accuracy of SGD model is 96.7 % \n"
          ],
          "name": "stdout"
        }
      ]
    },
    {
      "metadata": {
        "id": "bN7YWKs7d8R4",
        "colab_type": "code",
        "colab": {
          "autoexec": {
            "startup": false,
            "wait_interval": 0
          },
          "output_extras": [
            {
              "item_id": 21
            }
          ],
          "base_uri": "https://localhost:8080/",
          "height": 408
        },
        "outputId": "e0d53662-8335-4686-e83b-f965a343a128",
        "executionInfo": {
          "status": "ok",
          "timestamp": 1519656453409,
          "user_tz": -330,
          "elapsed": 48238,
          "user": {
            "displayName": "Ravindra Jonwal",
            "photoUrl": "//lh4.googleusercontent.com/-Zdd5G07d1to/AAAAAAAAAAI/AAAAAAAAAYg/4_TOX2VRjGQ/s50-c-k-no/photo.jpg",
            "userId": "100109715466188692487"
          }
        }
      },
      "cell_type": "code",
      "source": [
        "RMSpropHistory = Model(\"RMSprop\")"
      ],
      "execution_count": 41,
      "outputs": [
        {
          "output_type": "stream",
          "text": [
            "Train on 60000 samples, validate on 10000 samples\n",
            "Epoch 1/10\n",
            " - 4s - loss: 0.2673 - acc: 0.9218 - val_loss: 0.1280 - val_acc: 0.9618\n",
            "Epoch 2/10\n",
            " - 5s - loss: 0.1033 - acc: 0.9684 - val_loss: 0.0810 - val_acc: 0.9746\n",
            "Epoch 3/10\n",
            " - 5s - loss: 0.0669 - acc: 0.9797 - val_loss: 0.0779 - val_acc: 0.9736\n",
            "Epoch 4/10\n",
            " - 5s - loss: 0.0481 - acc: 0.9858 - val_loss: 0.0783 - val_acc: 0.9746\n",
            "Epoch 5/10\n",
            " - 5s - loss: 0.0349 - acc: 0.9897 - val_loss: 0.0610 - val_acc: 0.9816\n",
            "Epoch 6/10\n",
            " - 5s - loss: 0.0253 - acc: 0.9928 - val_loss: 0.0628 - val_acc: 0.9814\n",
            "Epoch 7/10\n",
            " - 5s - loss: 0.0193 - acc: 0.9947 - val_loss: 0.0655 - val_acc: 0.9798\n",
            "Epoch 8/10\n",
            " - 5s - loss: 0.0143 - acc: 0.9960 - val_loss: 0.0653 - val_acc: 0.9819\n",
            "Epoch 9/10\n",
            " - 5s - loss: 0.0107 - acc: 0.9973 - val_loss: 0.0610 - val_acc: 0.9825\n",
            "Epoch 10/10\n",
            " - 5s - loss: 0.0082 - acc: 0.9980 - val_loss: 0.0757 - val_acc: 0.9801\n",
            "Baseline Error: 1.99%\n",
            "Accuracy of RMSprop model is 98.00999999999999 % \n"
          ],
          "name": "stdout"
        }
      ]
    },
    {
      "metadata": {
        "id": "Wa_5hZb-i7Ey",
        "colab_type": "code",
        "colab": {
          "autoexec": {
            "startup": false,
            "wait_interval": 0
          },
          "output_extras": [
            {
              "item_id": 21
            }
          ],
          "base_uri": "https://localhost:8080/",
          "height": 408
        },
        "outputId": "7ce94dcf-2590-4974-e35b-af2fbb5c752b",
        "executionInfo": {
          "status": "ok",
          "timestamp": 1519656506883,
          "user_tz": -330,
          "elapsed": 47586,
          "user": {
            "displayName": "Ravindra Jonwal",
            "photoUrl": "//lh4.googleusercontent.com/-Zdd5G07d1to/AAAAAAAAAAI/AAAAAAAAAYg/4_TOX2VRjGQ/s50-c-k-no/photo.jpg",
            "userId": "100109715466188692487"
          }
        }
      },
      "cell_type": "code",
      "source": [
        "AdagradHistory = Model(\"Adagrad\")"
      ],
      "execution_count": 42,
      "outputs": [
        {
          "output_type": "stream",
          "text": [
            "Train on 60000 samples, validate on 10000 samples\n",
            "Epoch 1/10\n",
            " - 5s - loss: 0.2588 - acc: 0.9268 - val_loss: 0.1368 - val_acc: 0.9597\n",
            "Epoch 2/10\n",
            " - 5s - loss: 0.1168 - acc: 0.9674 - val_loss: 0.1048 - val_acc: 0.9683\n",
            "Epoch 3/10\n",
            " - 4s - loss: 0.0877 - acc: 0.9757 - val_loss: 0.0910 - val_acc: 0.9742\n",
            "Epoch 4/10\n",
            " - 4s - loss: 0.0714 - acc: 0.9808 - val_loss: 0.0816 - val_acc: 0.9757\n",
            "Epoch 5/10\n",
            " - 5s - loss: 0.0603 - acc: 0.9841 - val_loss: 0.0768 - val_acc: 0.9761\n",
            "Epoch 6/10\n",
            " - 5s - loss: 0.0518 - acc: 0.9864 - val_loss: 0.0713 - val_acc: 0.9778\n",
            "Epoch 7/10\n",
            " - 5s - loss: 0.0457 - acc: 0.9887 - val_loss: 0.0725 - val_acc: 0.9777\n",
            "Epoch 8/10\n",
            " - 5s - loss: 0.0408 - acc: 0.9898 - val_loss: 0.0656 - val_acc: 0.9805\n",
            "Epoch 9/10\n",
            " - 4s - loss: 0.0365 - acc: 0.9915 - val_loss: 0.0648 - val_acc: 0.9804\n",
            "Epoch 10/10\n",
            " - 5s - loss: 0.0332 - acc: 0.9926 - val_loss: 0.0636 - val_acc: 0.9806\n",
            "Baseline Error: 1.94%\n",
            "Accuracy of Adagrad model is 98.06 % \n"
          ],
          "name": "stdout"
        }
      ]
    },
    {
      "metadata": {
        "id": "Fl6p2mrBi7BU",
        "colab_type": "code",
        "colab": {
          "autoexec": {
            "startup": false,
            "wait_interval": 0
          },
          "output_extras": [
            {
              "item_id": 21
            }
          ],
          "base_uri": "https://localhost:8080/",
          "height": 408
        },
        "outputId": "1829d924-f9b2-4ec6-a374-d5310c8b9ebb",
        "executionInfo": {
          "status": "ok",
          "timestamp": 1519656564546,
          "user_tz": -330,
          "elapsed": 57618,
          "user": {
            "displayName": "Ravindra Jonwal",
            "photoUrl": "//lh4.googleusercontent.com/-Zdd5G07d1to/AAAAAAAAAAI/AAAAAAAAAYg/4_TOX2VRjGQ/s50-c-k-no/photo.jpg",
            "userId": "100109715466188692487"
          }
        }
      },
      "cell_type": "code",
      "source": [
        "AdadeltaHistory = Model(\"Adadelta\")"
      ],
      "execution_count": 43,
      "outputs": [
        {
          "output_type": "stream",
          "text": [
            "Train on 60000 samples, validate on 10000 samples\n",
            "Epoch 1/10\n",
            " - 6s - loss: 0.3293 - acc: 0.9064 - val_loss: 0.1844 - val_acc: 0.9492\n",
            "Epoch 2/10\n",
            " - 6s - loss: 0.1442 - acc: 0.9583 - val_loss: 0.1097 - val_acc: 0.9684\n",
            "Epoch 3/10\n",
            " - 6s - loss: 0.0992 - acc: 0.9724 - val_loss: 0.0897 - val_acc: 0.9732\n",
            "Epoch 4/10\n",
            " - 6s - loss: 0.0748 - acc: 0.9785 - val_loss: 0.0908 - val_acc: 0.9726\n",
            "Epoch 5/10\n",
            " - 6s - loss: 0.0581 - acc: 0.9839 - val_loss: 0.0719 - val_acc: 0.9786\n",
            "Epoch 6/10\n",
            " - 6s - loss: 0.0478 - acc: 0.9867 - val_loss: 0.0700 - val_acc: 0.9780\n",
            "Epoch 7/10\n",
            " - 6s - loss: 0.0385 - acc: 0.9900 - val_loss: 0.0652 - val_acc: 0.9792\n",
            "Epoch 8/10\n",
            " - 6s - loss: 0.0320 - acc: 0.9917 - val_loss: 0.0611 - val_acc: 0.9812\n",
            "Epoch 9/10\n",
            " - 6s - loss: 0.0264 - acc: 0.9936 - val_loss: 0.0590 - val_acc: 0.9823\n",
            "Epoch 10/10\n",
            " - 6s - loss: 0.0220 - acc: 0.9951 - val_loss: 0.0639 - val_acc: 0.9810\n",
            "Baseline Error: 1.90%\n",
            "Accuracy of Adadelta model is 98.1 % \n"
          ],
          "name": "stdout"
        }
      ]
    },
    {
      "metadata": {
        "id": "gKLAXM1Ci69T",
        "colab_type": "code",
        "colab": {
          "autoexec": {
            "startup": false,
            "wait_interval": 0
          },
          "output_extras": [
            {
              "item_id": 21
            }
          ],
          "base_uri": "https://localhost:8080/",
          "height": 408
        },
        "outputId": "06f2d6c6-77ce-43dc-eccf-b0264f5a85d0",
        "executionInfo": {
          "status": "ok",
          "timestamp": 1519656617194,
          "user_tz": -330,
          "elapsed": 52432,
          "user": {
            "displayName": "Ravindra Jonwal",
            "photoUrl": "//lh4.googleusercontent.com/-Zdd5G07d1to/AAAAAAAAAAI/AAAAAAAAAYg/4_TOX2VRjGQ/s50-c-k-no/photo.jpg",
            "userId": "100109715466188692487"
          }
        }
      },
      "cell_type": "code",
      "source": [
        "AdamHistory = Model(\"Adam\")"
      ],
      "execution_count": 44,
      "outputs": [
        {
          "output_type": "stream",
          "text": [
            "Train on 60000 samples, validate on 10000 samples\n",
            "Epoch 1/10\n",
            " - 5s - loss: 0.2774 - acc: 0.9213 - val_loss: 0.1376 - val_acc: 0.9598\n",
            "Epoch 2/10\n",
            " - 5s - loss: 0.1104 - acc: 0.9683 - val_loss: 0.0983 - val_acc: 0.9703\n",
            "Epoch 3/10\n",
            " - 5s - loss: 0.0707 - acc: 0.9792 - val_loss: 0.0759 - val_acc: 0.9765\n",
            "Epoch 4/10\n",
            " - 5s - loss: 0.0495 - acc: 0.9854 - val_loss: 0.0679 - val_acc: 0.9787\n",
            "Epoch 5/10\n",
            " - 5s - loss: 0.0352 - acc: 0.9902 - val_loss: 0.0666 - val_acc: 0.9777\n",
            "Epoch 6/10\n",
            " - 5s - loss: 0.0268 - acc: 0.9926 - val_loss: 0.0656 - val_acc: 0.9803\n",
            "Epoch 7/10\n",
            " - 5s - loss: 0.0196 - acc: 0.9950 - val_loss: 0.0610 - val_acc: 0.9805\n",
            "Epoch 8/10\n",
            " - 5s - loss: 0.0146 - acc: 0.9966 - val_loss: 0.0645 - val_acc: 0.9791\n",
            "Epoch 9/10\n",
            " - 5s - loss: 0.0112 - acc: 0.9976 - val_loss: 0.0634 - val_acc: 0.9807\n",
            "Epoch 10/10\n",
            " - 5s - loss: 0.0086 - acc: 0.9982 - val_loss: 0.0600 - val_acc: 0.9817\n",
            "Baseline Error: 1.83%\n",
            "Accuracy of Adam model is 98.17 % \n"
          ],
          "name": "stdout"
        }
      ]
    },
    {
      "metadata": {
        "id": "T9YW7qQmi65j",
        "colab_type": "code",
        "colab": {
          "autoexec": {
            "startup": false,
            "wait_interval": 0
          },
          "output_extras": [
            {
              "item_id": 21
            }
          ],
          "base_uri": "https://localhost:8080/",
          "height": 408
        },
        "outputId": "bf79563f-de4d-4aa7-f700-daed01f96724",
        "executionInfo": {
          "status": "ok",
          "timestamp": 1519656667536,
          "user_tz": -330,
          "elapsed": 50220,
          "user": {
            "displayName": "Ravindra Jonwal",
            "photoUrl": "//lh4.googleusercontent.com/-Zdd5G07d1to/AAAAAAAAAAI/AAAAAAAAAYg/4_TOX2VRjGQ/s50-c-k-no/photo.jpg",
            "userId": "100109715466188692487"
          }
        }
      },
      "cell_type": "code",
      "source": [
        "AdamaxHistory = Model(\"Adamax\")"
      ],
      "execution_count": 45,
      "outputs": [
        {
          "output_type": "stream",
          "text": [
            "Train on 60000 samples, validate on 10000 samples\n",
            "Epoch 1/10\n",
            " - 5s - loss: 0.2866 - acc: 0.9180 - val_loss: 0.1643 - val_acc: 0.9526\n",
            "Epoch 2/10\n",
            " - 5s - loss: 0.1408 - acc: 0.9605 - val_loss: 0.1207 - val_acc: 0.9640\n",
            "Epoch 3/10\n",
            " - 5s - loss: 0.0999 - acc: 0.9723 - val_loss: 0.0991 - val_acc: 0.9707\n",
            "Epoch 4/10\n",
            " - 5s - loss: 0.0755 - acc: 0.9790 - val_loss: 0.0802 - val_acc: 0.9756\n",
            "Epoch 5/10\n",
            " - 5s - loss: 0.0597 - acc: 0.9831 - val_loss: 0.0758 - val_acc: 0.9774\n",
            "Epoch 6/10\n",
            " - 5s - loss: 0.0476 - acc: 0.9872 - val_loss: 0.0667 - val_acc: 0.9792\n",
            "Epoch 7/10\n",
            " - 5s - loss: 0.0380 - acc: 0.9901 - val_loss: 0.0656 - val_acc: 0.9797\n",
            "Epoch 8/10\n",
            " - 5s - loss: 0.0303 - acc: 0.9923 - val_loss: 0.0650 - val_acc: 0.9799\n",
            "Epoch 9/10\n",
            " - 5s - loss: 0.0251 - acc: 0.9940 - val_loss: 0.0617 - val_acc: 0.9806\n",
            "Epoch 10/10\n",
            " - 5s - loss: 0.0198 - acc: 0.9957 - val_loss: 0.0572 - val_acc: 0.9817\n",
            "Baseline Error: 1.83%\n",
            "Accuracy of Adamax model is 98.17 % \n"
          ],
          "name": "stdout"
        }
      ]
    },
    {
      "metadata": {
        "id": "A6z6tadSjG-z",
        "colab_type": "code",
        "colab": {
          "autoexec": {
            "startup": false,
            "wait_interval": 0
          },
          "output_extras": [
            {
              "item_id": 21
            }
          ],
          "base_uri": "https://localhost:8080/",
          "height": 408
        },
        "outputId": "d527a316-5040-46f2-dd0b-44629545f43c",
        "executionInfo": {
          "status": "ok",
          "timestamp": 1519656726532,
          "user_tz": -330,
          "elapsed": 58952,
          "user": {
            "displayName": "Ravindra Jonwal",
            "photoUrl": "//lh4.googleusercontent.com/-Zdd5G07d1to/AAAAAAAAAAI/AAAAAAAAAYg/4_TOX2VRjGQ/s50-c-k-no/photo.jpg",
            "userId": "100109715466188692487"
          }
        }
      },
      "cell_type": "code",
      "source": [
        "NadamHistory = Model(\"Nadam\")"
      ],
      "execution_count": 46,
      "outputs": [
        {
          "output_type": "stream",
          "text": [
            "Train on 60000 samples, validate on 10000 samples\n",
            "Epoch 1/10\n",
            " - 6s - loss: 0.2356 - acc: 0.9323 - val_loss: 0.1066 - val_acc: 0.9703\n",
            "Epoch 2/10\n",
            " - 6s - loss: 0.0831 - acc: 0.9757 - val_loss: 0.0811 - val_acc: 0.9743\n",
            "Epoch 3/10\n",
            " - 6s - loss: 0.0502 - acc: 0.9850 - val_loss: 0.0649 - val_acc: 0.9797\n",
            "Epoch 4/10\n",
            " - 6s - loss: 0.0334 - acc: 0.9901 - val_loss: 0.0687 - val_acc: 0.9785\n",
            "Epoch 5/10\n",
            " - 6s - loss: 0.0222 - acc: 0.9938 - val_loss: 0.0643 - val_acc: 0.9774\n",
            "Epoch 6/10\n",
            " - 6s - loss: 0.0151 - acc: 0.9955 - val_loss: 0.0626 - val_acc: 0.9801\n",
            "Epoch 7/10\n",
            " - 6s - loss: 0.0110 - acc: 0.9971 - val_loss: 0.0635 - val_acc: 0.9820\n",
            "Epoch 8/10\n",
            " - 6s - loss: 0.0080 - acc: 0.9980 - val_loss: 0.0771 - val_acc: 0.9786\n",
            "Epoch 9/10\n",
            " - 6s - loss: 0.0097 - acc: 0.9973 - val_loss: 0.0704 - val_acc: 0.9810\n",
            "Epoch 10/10\n",
            " - 6s - loss: 0.0075 - acc: 0.9978 - val_loss: 0.0707 - val_acc: 0.9801\n",
            "Baseline Error: 1.99%\n",
            "Accuracy of Nadam model is 98.00999999999999 % \n"
          ],
          "name": "stdout"
        }
      ]
    },
    {
      "metadata": {
        "id": "76Ho8jUFmQq1",
        "colab_type": "text"
      },
      "cell_type": "markdown",
      "source": [
        "**Here Adam optimizer is giving better accuracy then all other optimizers.History of Adam optimizers is given below during training phase**"
      ]
    },
    {
      "metadata": {
        "id": "kfDIPfoja-Yj",
        "colab_type": "code",
        "colab": {
          "autoexec": {
            "startup": false,
            "wait_interval": 0
          }
        }
      },
      "cell_type": "code",
      "source": [
        "# list all data in history\n",
        "\n",
        "def history_opt(history):\n",
        "  \n",
        "  print(\"Accuracy Plot Of Adam Optimizer Model is\")\n",
        "  print(history.history.keys())\n",
        "  # summarize history for accuracy\n",
        "  plt.plot(history.history['acc'])\n",
        "  plt.plot(history.history['val_acc'])\n",
        "  plt.title('model accuracy')\n",
        "  plt.ylabel('accuracy')\n",
        "  plt.xlabel('epoch')\n",
        "  plt.legend(['train', 'test'], loc='upper left')\n",
        "  plt.show()\n",
        "  # summarize history for loss\n",
        "  plt.plot(history.history['loss'])\n",
        "  plt.plot(history.history['val_loss'])\n",
        "  plt.title('model loss')\n",
        "  plt.ylabel('loss')\n",
        "  plt.xlabel('epoch')\n",
        "  plt.legend(['train', 'test'], loc='upper right')\n",
        "  plt.show()"
      ],
      "execution_count": 0,
      "outputs": []
    },
    {
      "metadata": {
        "id": "jYr4APWuac1R",
        "colab_type": "code",
        "colab": {
          "autoexec": {
            "startup": false,
            "wait_interval": 0
          },
          "output_extras": [
            {
              "item_id": 1
            },
            {
              "item_id": 2
            },
            {
              "item_id": 3
            }
          ],
          "base_uri": "https://localhost:8080/",
          "height": 769
        },
        "outputId": "b4fdfd8a-a658-4aef-ae5e-0962f51fe1f2",
        "executionInfo": {
          "status": "ok",
          "timestamp": 1519657673595,
          "user_tz": -330,
          "elapsed": 1215,
          "user": {
            "displayName": "Ravindra Jonwal",
            "photoUrl": "//lh4.googleusercontent.com/-Zdd5G07d1to/AAAAAAAAAAI/AAAAAAAAAYg/4_TOX2VRjGQ/s50-c-k-no/photo.jpg",
            "userId": "100109715466188692487"
          }
        }
      },
      "cell_type": "code",
      "source": [
        "\n",
        "#Plotting of Accuracy Model of Adam Optimizer.\n",
        "history_opt(AdamHistory)"
      ],
      "execution_count": 54,
      "outputs": [
        {
          "output_type": "stream",
          "text": [
            "Accuracy Plot Of Adam Optimizer Model is\n",
            "dict_keys(['val_loss', 'val_acc', 'loss', 'acc'])\n"
          ],
          "name": "stdout"
        },
        {
          "output_type": "display_data",
          "data": {
            "image/png": "[encoded data removed]",
            "text/plain": [
              "<matplotlib.figure.Figure at 0x7f996772ca58>"
            ]
          },
          "metadata": {
            "tags": []
          }
        },
        {
          "output_type": "display_data",
          "data": {
            "image/png": "[encoded data removed]",
            "text/plain": [
              "<matplotlib.figure.Figure at 0x7f996745a5c0>"
            ]
          },
          "metadata": {
            "tags": []
          }
        }
      ]
    },
    {
      "metadata": {
        "id": "zckXJ0drnxZt",
        "colab_type": "text"
      },
      "cell_type": "markdown",
      "source": [
        "**So from above we can conclude the Adam optimizer converges till it reaches 8 epochs so there is no point in increasing more epochs.**"
      ]
    }
  ]
}