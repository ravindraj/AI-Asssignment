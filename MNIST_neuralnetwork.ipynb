{
  "nbformat": 4,
  "nbformat_minor": 0,
  "metadata": {
    "colab": {
      "name": "Untitled3.ipynb",
      "version": "0.3.2",
      "views": {},
      "default_view": {},
      "provenance": []
    },
    "kernelspec": {
      "name": "python3",
      "display_name": "Python 3"
    }
  },
  "cells": [
    {
      "metadata": {
        "id": "KjVwSc_WZ7aw",
        "colab_type": "code",
        "colab": {
          "autoexec": {
            "startup": false,
            "wait_interval": 0
          },
          "output_extras": [
            {
              "item_id": 1
            }
          ],
          "base_uri": "https://localhost:8080/",
          "height": 34
        },
        "outputId": "663550a2-5b62-41b2-ccd7-23168112a07b",
        "executionInfo": {
          "status": "ok",
          "timestamp": 1519662542620,
          "user_tz": -330,
          "elapsed": 2728,
          "user": {
            "displayName": "Ravindra Jonwal",
            "photoUrl": "//lh4.googleusercontent.com/-Zdd5G07d1to/AAAAAAAAAAI/AAAAAAAAAYg/4_TOX2VRjGQ/s50-c-k-no/photo.jpg",
            "userId": "100109715466188692487"
          }
        }
      },
      "cell_type": "code",
      "source": [
        "import numpy\n",
        "from keras.datasets import mnist\n",
        "from keras.models import Sequential\n",
        "from keras.layers import Dense\n",
        "from keras.layers import Dropout\n",
        "from keras.utils import np_utils\n",
        "from keras import optimizers\n",
        "import matplotlib.pyplot as plt"
      ],
      "execution_count": 1,
      "outputs": [
        {
          "output_type": "stream",
          "text": [
            "Using TensorFlow backend.\n"
          ],
          "name": "stderr"
        }
      ]
    },
    {
      "metadata": {
        "id": "s8FYFepOaAfg",
        "colab_type": "code",
        "colab": {
          "autoexec": {
            "startup": false,
            "wait_interval": 0
          }
        }
      },
      "cell_type": "code",
      "source": [
        "# fix random seed for reproducibility\n",
        "seed = 7\n",
        "numpy.random.seed(seed)"
      ],
      "execution_count": 0,
      "outputs": []
    },
    {
      "metadata": {
        "id": "iPqlZrqtaE1y",
        "colab_type": "code",
        "colab": {
          "autoexec": {
            "startup": false,
            "wait_interval": 0
          }
        }
      },
      "cell_type": "code",
      "source": [
        "(X_train, y_train), (X_test, y_test) = mnist.load_data()\n"
      ],
      "execution_count": 0,
      "outputs": []
    },
    {
      "metadata": {
        "id": "eAf_syGIaHiH",
        "colab_type": "code",
        "colab": {
          "autoexec": {
            "startup": false,
            "wait_interval": 0
          }
        }
      },
      "cell_type": "code",
      "source": [
        "num_pixels = X_train.shape[1] * X_train.shape[2]\n",
        "X_train = X_train.reshape(X_train.shape[0], num_pixels).astype('float32')\n",
        "X_test = X_test.reshape(X_test.shape[0], num_pixels).astype('float32')"
      ],
      "execution_count": 0,
      "outputs": []
    },
    {
      "metadata": {
        "id": "4Kg7KTwYaLyq",
        "colab_type": "code",
        "colab": {
          "autoexec": {
            "startup": false,
            "wait_interval": 0
          }
        }
      },
      "cell_type": "code",
      "source": [
        "# normalize inputs from 0-255 to 0-1\n",
        "X_train = X_train / 255\n",
        "X_test = X_test / 255"
      ],
      "execution_count": 0,
      "outputs": []
    },
    {
      "metadata": {
        "id": "zfEx7bOXaOza",
        "colab_type": "code",
        "colab": {
          "autoexec": {
            "startup": false,
            "wait_interval": 0
          }
        }
      },
      "cell_type": "code",
      "source": [
        "# one hot encode outputs\n",
        "y_train = np_utils.to_categorical(y_train)\n",
        "y_test = np_utils.to_categorical(y_test)\n",
        "num_classes = y_test.shape[1]"
      ],
      "execution_count": 0,
      "outputs": []
    },
    {
      "metadata": {
        "id": "yJHa-PqZaUVH",
        "colab_type": "code",
        "colab": {
          "autoexec": {
            "startup": false,
            "wait_interval": 0
          }
        }
      },
      "cell_type": "code",
      "source": [
        "def baseline_model(optimizer,n=1):\n",
        "  # create model\n",
        "  model = Sequential()\n",
        "  model.add(Dense(num_pixels, input_dim=num_pixels, kernel_initializer='normal', activation='relu'))\n",
        "  \n",
        "  while(n>1):\n",
        "    model.add(Dense(600, kernel_initializer='normal', activation='relu'))\n",
        "    n = n-1 \n",
        "  \n",
        "  \n",
        "  model.add(Dense(num_classes, kernel_initializer='normal', activation='softmax'))\n",
        "  # Compile model\n",
        "  \n",
        "  if(optimizer == \"SGD\"):\n",
        "    sgd = optimizers.SGD(lr=0.01, decay = 1e-6, momentum=0.9, nesterov = True)\n",
        "  \n",
        "  elif(optimizer == \"RMSprop\"):\n",
        "    sgd = optimizers.RMSprop(lr=0.001, rho=0.9, epsilon=None, decay=0.0)\n",
        "    \n",
        "  elif(optimizer == \"Adagrad\"):\n",
        "    sgd = optimizers.Adagrad(lr=0.01, epsilon=None, decay=0.0)\n",
        "  \n",
        "  elif(optimizer == \"Adadelta\"):\n",
        "    sgd = optimizers.Adadelta(lr=1.0, rho=0.95, epsilon=None, decay=0.0)\n",
        "  \n",
        "  elif(optimizer == \"Adam\"):\n",
        "    sgd = optimizers.Adam(lr=0.001, beta_1=0.9, beta_2=0.999, epsilon=None, decay=0.0, amsgrad=False)\n",
        "\n",
        "  elif(optimizer == \"Adamax\"):\n",
        "    sgd = optimizers.Adamax(lr=0.002, beta_1=0.9, beta_2=0.999, epsilon=None, decay=0.0)\n",
        "\n",
        "  elif(optimizer == \"Nadam\"):\n",
        "    sgd = optimizers.Nadam(lr=0.002, beta_1=0.9, beta_2=0.999, epsilon=None, schedule_decay=0.004)\n",
        "\n",
        "  elif(optimizer == \"TFOptimizer\"):\n",
        "    sgd = optimizers.TFOptimizer(optimizer)\n",
        "    \n",
        "    \n",
        "  model.compile(loss='categorical_crossentropy', optimizer=sgd, metrics=['accuracy'])\n",
        "  return model"
      ],
      "execution_count": 0,
      "outputs": []
    },
    {
      "metadata": {
        "id": "hFzUhxaZaX3z",
        "colab_type": "code",
        "colab": {
          "autoexec": {
            "startup": false,
            "wait_interval": 0
          }
        }
      },
      "cell_type": "code",
      "source": [
        "# build the model\n",
        "\n",
        "def Model(optimizer,n):\n",
        "  model = baseline_model(optimizer,n)\n",
        "  # Fit the model\n",
        "  history = model.fit(X_train, y_train, validation_data=(X_test, y_test), epochs=10, batch_size=200, verbose=2)\n",
        "  # Final evaluation of the model\n",
        "  scores = model.evaluate(X_test, y_test, verbose=0)\n",
        "  print(\"Baseline Error: %.2f%%\" % (100-scores[1]*100))\n",
        "  print(\"Accuracy of {} model is {} % \".format(optimizer,scores[1]*100))\n",
        "  return history "
      ],
      "execution_count": 0,
      "outputs": []
    },
    {
      "metadata": {
        "id": "cBGOM0Cld8MQ",
        "colab_type": "code",
        "colab": {
          "autoexec": {
            "startup": false,
            "wait_interval": 0
          },
          "output_extras": [
            {
              "item_id": 21
            }
          ],
          "base_uri": "https://localhost:8080/",
          "height": 445
        },
        "outputId": "26766734-3bf5-4796-88e7-a4e4c6ebfc68",
        "executionInfo": {
          "status": "ok",
          "timestamp": 1519662604981,
          "user_tz": -330,
          "elapsed": 43534,
          "user": {
            "displayName": "Ravindra Jonwal",
            "photoUrl": "//lh4.googleusercontent.com/-Zdd5G07d1to/AAAAAAAAAAI/AAAAAAAAAYg/4_TOX2VRjGQ/s50-c-k-no/photo.jpg",
            "userId": "100109715466188692487"
          }
        }
      },
      "cell_type": "code",
      "source": [
        "SGDHistory = Model(\"SGD\",1)"
      ],
      "execution_count": 9,
      "outputs": [
        {
          "output_type": "stream",
          "text": [
            "WARNING:tensorflow:Variable *= will be deprecated. Use variable.assign_mul if you want assignment to the variable value or 'x = x * y' if you want a new python Tensor object.\n",
            "Train on 60000 samples, validate on 10000 samples\n",
            "Epoch 1/10\n",
            " - 4s - loss: 0.5077 - acc: 0.8619 - val_loss: 0.2939 - val_acc: 0.9177\n",
            "Epoch 2/10\n",
            " - 4s - loss: 0.2737 - acc: 0.9240 - val_loss: 0.2375 - val_acc: 0.9323\n",
            "Epoch 3/10\n",
            " - 4s - loss: 0.2279 - acc: 0.9368 - val_loss: 0.2043 - val_acc: 0.9404\n",
            "Epoch 4/10\n",
            " - 4s - loss: 0.1967 - acc: 0.9460 - val_loss: 0.1827 - val_acc: 0.9469\n",
            "Epoch 5/10\n",
            " - 4s - loss: 0.1732 - acc: 0.9523 - val_loss: 0.1628 - val_acc: 0.9523\n",
            "Epoch 6/10\n",
            " - 4s - loss: 0.1542 - acc: 0.9573 - val_loss: 0.1484 - val_acc: 0.9562\n",
            "Epoch 7/10\n",
            " - 4s - loss: 0.1394 - acc: 0.9618 - val_loss: 0.1369 - val_acc: 0.9596\n",
            "Epoch 8/10\n",
            " - 4s - loss: 0.1266 - acc: 0.9656 - val_loss: 0.1270 - val_acc: 0.9630\n",
            "Epoch 9/10\n",
            " - 4s - loss: 0.1161 - acc: 0.9685 - val_loss: 0.1192 - val_acc: 0.9648\n",
            "Epoch 10/10\n",
            " - 4s - loss: 0.1072 - acc: 0.9711 - val_loss: 0.1120 - val_acc: 0.9666\n",
            "Baseline Error: 3.34%\n",
            "Accuracy of SGD model is 96.66 % \n"
          ],
          "name": "stdout"
        }
      ]
    },
    {
      "metadata": {
        "id": "bN7YWKs7d8R4",
        "colab_type": "code",
        "colab": {
          "autoexec": {
            "startup": false,
            "wait_interval": 0
          },
          "output_extras": [
            {
              "item_id": 21
            }
          ],
          "base_uri": "https://localhost:8080/",
          "height": 408
        },
        "outputId": "998c7ea3-813b-463e-d072-0f2c85d26945",
        "executionInfo": {
          "status": "ok",
          "timestamp": 1519662654797,
          "user_tz": -330,
          "elapsed": 49614,
          "user": {
            "displayName": "Ravindra Jonwal",
            "photoUrl": "//lh4.googleusercontent.com/-Zdd5G07d1to/AAAAAAAAAAI/AAAAAAAAAYg/4_TOX2VRjGQ/s50-c-k-no/photo.jpg",
            "userId": "100109715466188692487"
          }
        }
      },
      "cell_type": "code",
      "source": [
        "RMSpropHistory = Model(\"RMSprop\",1)"
      ],
      "execution_count": 10,
      "outputs": [
        {
          "output_type": "stream",
          "text": [
            "Train on 60000 samples, validate on 10000 samples\n",
            "Epoch 1/10\n",
            " - 5s - loss: 0.2711 - acc: 0.9208 - val_loss: 0.1313 - val_acc: 0.9604\n",
            "Epoch 2/10\n",
            " - 5s - loss: 0.1047 - acc: 0.9688 - val_loss: 0.0882 - val_acc: 0.9722\n",
            "Epoch 3/10\n",
            " - 5s - loss: 0.0671 - acc: 0.9802 - val_loss: 0.0719 - val_acc: 0.9770\n",
            "Epoch 4/10\n",
            " - 5s - loss: 0.0477 - acc: 0.9857 - val_loss: 0.0676 - val_acc: 0.9794\n",
            "Epoch 5/10\n",
            " - 5s - loss: 0.0343 - acc: 0.9897 - val_loss: 0.0569 - val_acc: 0.9817\n",
            "Epoch 6/10\n",
            " - 5s - loss: 0.0256 - acc: 0.9926 - val_loss: 0.0616 - val_acc: 0.9812\n",
            "Epoch 7/10\n",
            " - 5s - loss: 0.0187 - acc: 0.9948 - val_loss: 0.0582 - val_acc: 0.9815\n",
            "Epoch 8/10\n",
            " - 5s - loss: 0.0141 - acc: 0.9959 - val_loss: 0.0632 - val_acc: 0.9816\n",
            "Epoch 9/10\n",
            " - 5s - loss: 0.0107 - acc: 0.9972 - val_loss: 0.0640 - val_acc: 0.9827\n",
            "Epoch 10/10\n",
            " - 5s - loss: 0.0076 - acc: 0.9982 - val_loss: 0.0657 - val_acc: 0.9825\n",
            "Baseline Error: 1.75%\n",
            "Accuracy of RMSprop model is 98.25 % \n"
          ],
          "name": "stdout"
        }
      ]
    },
    {
      "metadata": {
        "id": "Wa_5hZb-i7Ey",
        "colab_type": "code",
        "colab": {
          "autoexec": {
            "startup": false,
            "wait_interval": 0
          },
          "output_extras": [
            {
              "item_id": 21
            }
          ],
          "base_uri": "https://localhost:8080/",
          "height": 408
        },
        "outputId": "e009c932-b9bf-47fe-e660-2c7a200bc30f",
        "executionInfo": {
          "status": "ok",
          "timestamp": 1519662702638,
          "user_tz": -330,
          "elapsed": 47729,
          "user": {
            "displayName": "Ravindra Jonwal",
            "photoUrl": "//lh4.googleusercontent.com/-Zdd5G07d1to/AAAAAAAAAAI/AAAAAAAAAYg/4_TOX2VRjGQ/s50-c-k-no/photo.jpg",
            "userId": "100109715466188692487"
          }
        }
      },
      "cell_type": "code",
      "source": [
        "AdagradHistory = Model(\"Adagrad\",1)"
      ],
      "execution_count": 11,
      "outputs": [
        {
          "output_type": "stream",
          "text": [
            "Train on 60000 samples, validate on 10000 samples\n",
            "Epoch 1/10\n",
            " - 5s - loss: 0.2590 - acc: 0.9281 - val_loss: 0.1368 - val_acc: 0.9607\n",
            "Epoch 2/10\n",
            " - 5s - loss: 0.1150 - acc: 0.9679 - val_loss: 0.1023 - val_acc: 0.9692\n",
            "Epoch 3/10\n",
            " - 5s - loss: 0.0867 - acc: 0.9760 - val_loss: 0.0886 - val_acc: 0.9736\n",
            "Epoch 4/10\n",
            " - 5s - loss: 0.0704 - acc: 0.9806 - val_loss: 0.0803 - val_acc: 0.9755\n",
            "Epoch 5/10\n",
            " - 5s - loss: 0.0591 - acc: 0.9840 - val_loss: 0.0761 - val_acc: 0.9777\n",
            "Epoch 6/10\n",
            " - 5s - loss: 0.0513 - acc: 0.9867 - val_loss: 0.0703 - val_acc: 0.9796\n",
            "Epoch 7/10\n",
            " - 5s - loss: 0.0450 - acc: 0.9886 - val_loss: 0.0676 - val_acc: 0.9798\n",
            "Epoch 8/10\n",
            " - 5s - loss: 0.0398 - acc: 0.9903 - val_loss: 0.0659 - val_acc: 0.9800\n",
            "Epoch 9/10\n",
            " - 5s - loss: 0.0357 - acc: 0.9917 - val_loss: 0.0638 - val_acc: 0.9798\n",
            "Epoch 10/10\n",
            " - 5s - loss: 0.0322 - acc: 0.9927 - val_loss: 0.0630 - val_acc: 0.9803\n",
            "Baseline Error: 1.97%\n",
            "Accuracy of Adagrad model is 98.03 % \n"
          ],
          "name": "stdout"
        }
      ]
    },
    {
      "metadata": {
        "id": "Fl6p2mrBi7BU",
        "colab_type": "code",
        "colab": {
          "autoexec": {
            "startup": false,
            "wait_interval": 0
          },
          "output_extras": [
            {
              "item_id": 21
            }
          ],
          "base_uri": "https://localhost:8080/",
          "height": 408
        },
        "outputId": "787cbeb8-090e-4722-d238-d3ad825f0051",
        "executionInfo": {
          "status": "ok",
          "timestamp": 1519662760508,
          "user_tz": -330,
          "elapsed": 57824,
          "user": {
            "displayName": "Ravindra Jonwal",
            "photoUrl": "//lh4.googleusercontent.com/-Zdd5G07d1to/AAAAAAAAAAI/AAAAAAAAAYg/4_TOX2VRjGQ/s50-c-k-no/photo.jpg",
            "userId": "100109715466188692487"
          }
        }
      },
      "cell_type": "code",
      "source": [
        "AdadeltaHistory = Model(\"Adadelta\",1)"
      ],
      "execution_count": 12,
      "outputs": [
        {
          "output_type": "stream",
          "text": [
            "Train on 60000 samples, validate on 10000 samples\n",
            "Epoch 1/10\n",
            " - 6s - loss: 0.3305 - acc: 0.9074 - val_loss: 0.1773 - val_acc: 0.9485\n",
            "Epoch 2/10\n",
            " - 5s - loss: 0.1453 - acc: 0.9577 - val_loss: 0.1134 - val_acc: 0.9675\n",
            "Epoch 3/10\n",
            " - 6s - loss: 0.0996 - acc: 0.9710 - val_loss: 0.0956 - val_acc: 0.9726\n",
            "Epoch 4/10\n",
            " - 6s - loss: 0.0744 - acc: 0.9785 - val_loss: 0.0841 - val_acc: 0.9747\n",
            "Epoch 5/10\n",
            " - 5s - loss: 0.0590 - acc: 0.9836 - val_loss: 0.0713 - val_acc: 0.9784\n",
            "Epoch 6/10\n",
            " - 6s - loss: 0.0475 - acc: 0.9867 - val_loss: 0.0733 - val_acc: 0.9769\n",
            "Epoch 7/10\n",
            " - 6s - loss: 0.0391 - acc: 0.9894 - val_loss: 0.0632 - val_acc: 0.9810\n",
            "Epoch 8/10\n",
            " - 6s - loss: 0.0324 - acc: 0.9915 - val_loss: 0.0672 - val_acc: 0.9791\n",
            "Epoch 9/10\n",
            " - 6s - loss: 0.0267 - acc: 0.9935 - val_loss: 0.0607 - val_acc: 0.9807\n",
            "Epoch 10/10\n",
            " - 6s - loss: 0.0219 - acc: 0.9948 - val_loss: 0.0612 - val_acc: 0.9808\n",
            "Baseline Error: 1.92%\n",
            "Accuracy of Adadelta model is 98.08 % \n"
          ],
          "name": "stdout"
        }
      ]
    },
    {
      "metadata": {
        "id": "gKLAXM1Ci69T",
        "colab_type": "code",
        "colab": {
          "autoexec": {
            "startup": false,
            "wait_interval": 0
          },
          "output_extras": [
            {
              "item_id": 21
            }
          ],
          "base_uri": "https://localhost:8080/",
          "height": 408
        },
        "outputId": "74415366-b638-4d4b-8181-17c3f76de844",
        "executionInfo": {
          "status": "ok",
          "timestamp": 1519662814703,
          "user_tz": -330,
          "elapsed": 54118,
          "user": {
            "displayName": "Ravindra Jonwal",
            "photoUrl": "//lh4.googleusercontent.com/-Zdd5G07d1to/AAAAAAAAAAI/AAAAAAAAAYg/4_TOX2VRjGQ/s50-c-k-no/photo.jpg",
            "userId": "100109715466188692487"
          }
        }
      },
      "cell_type": "code",
      "source": [
        "AdamHistory = Model(\"Adam\",1)"
      ],
      "execution_count": 13,
      "outputs": [
        {
          "output_type": "stream",
          "text": [
            "Train on 60000 samples, validate on 10000 samples\n",
            "Epoch 1/10\n",
            " - 5s - loss: 0.2761 - acc: 0.9218 - val_loss: 0.1379 - val_acc: 0.9589\n",
            "Epoch 2/10\n",
            " - 5s - loss: 0.1116 - acc: 0.9676 - val_loss: 0.0929 - val_acc: 0.9720\n",
            "Epoch 3/10\n",
            " - 5s - loss: 0.0710 - acc: 0.9796 - val_loss: 0.0757 - val_acc: 0.9765\n",
            "Epoch 4/10\n",
            " - 5s - loss: 0.0497 - acc: 0.9857 - val_loss: 0.0697 - val_acc: 0.9776\n",
            "Epoch 5/10\n",
            " - 5s - loss: 0.0366 - acc: 0.9899 - val_loss: 0.0677 - val_acc: 0.9782\n",
            "Epoch 6/10\n",
            " - 5s - loss: 0.0269 - acc: 0.9931 - val_loss: 0.0644 - val_acc: 0.9789\n",
            "Epoch 7/10\n",
            " - 5s - loss: 0.0195 - acc: 0.9953 - val_loss: 0.0602 - val_acc: 0.9823\n",
            "Epoch 8/10\n",
            " - 5s - loss: 0.0155 - acc: 0.9966 - val_loss: 0.0550 - val_acc: 0.9833\n",
            "Epoch 9/10\n",
            " - 5s - loss: 0.0113 - acc: 0.9976 - val_loss: 0.0602 - val_acc: 0.9824\n",
            "Epoch 10/10\n",
            " - 5s - loss: 0.0077 - acc: 0.9988 - val_loss: 0.0566 - val_acc: 0.9825\n",
            "Baseline Error: 1.75%\n",
            "Accuracy of Adam model is 98.25 % \n"
          ],
          "name": "stdout"
        }
      ]
    },
    {
      "metadata": {
        "id": "T9YW7qQmi65j",
        "colab_type": "code",
        "colab": {
          "autoexec": {
            "startup": false,
            "wait_interval": 0
          },
          "output_extras": [
            {
              "item_id": 21
            }
          ],
          "base_uri": "https://localhost:8080/",
          "height": 408
        },
        "outputId": "2f41780e-7bbe-485a-de92-80c9ba026c58",
        "executionInfo": {
          "status": "ok",
          "timestamp": 1519662867026,
          "user_tz": -330,
          "elapsed": 52230,
          "user": {
            "displayName": "Ravindra Jonwal",
            "photoUrl": "//lh4.googleusercontent.com/-Zdd5G07d1to/AAAAAAAAAAI/AAAAAAAAAYg/4_TOX2VRjGQ/s50-c-k-no/photo.jpg",
            "userId": "100109715466188692487"
          }
        }
      },
      "cell_type": "code",
      "source": [
        "AdamaxHistory = Model(\"Adamax\",1)"
      ],
      "execution_count": 14,
      "outputs": [
        {
          "output_type": "stream",
          "text": [
            "Train on 60000 samples, validate on 10000 samples\n",
            "Epoch 1/10\n",
            " - 5s - loss: 0.2868 - acc: 0.9182 - val_loss: 0.1695 - val_acc: 0.9524\n",
            "Epoch 2/10\n",
            " - 5s - loss: 0.1390 - acc: 0.9609 - val_loss: 0.1192 - val_acc: 0.9641\n",
            "Epoch 3/10\n",
            " - 5s - loss: 0.0995 - acc: 0.9720 - val_loss: 0.0956 - val_acc: 0.9710\n",
            "Epoch 4/10\n",
            " - 5s - loss: 0.0745 - acc: 0.9796 - val_loss: 0.0982 - val_acc: 0.9688\n",
            "Epoch 5/10\n",
            " - 5s - loss: 0.0595 - acc: 0.9835 - val_loss: 0.0732 - val_acc: 0.9770\n",
            "Epoch 6/10\n",
            " - 5s - loss: 0.0473 - acc: 0.9873 - val_loss: 0.0736 - val_acc: 0.9775\n",
            "Epoch 7/10\n",
            " - 5s - loss: 0.0388 - acc: 0.9894 - val_loss: 0.0666 - val_acc: 0.9793\n",
            "Epoch 8/10\n",
            " - 5s - loss: 0.0311 - acc: 0.9922 - val_loss: 0.0663 - val_acc: 0.9797\n",
            "Epoch 9/10\n",
            " - 5s - loss: 0.0255 - acc: 0.9941 - val_loss: 0.0589 - val_acc: 0.9815\n",
            "Epoch 10/10\n",
            " - 5s - loss: 0.0206 - acc: 0.9956 - val_loss: 0.0625 - val_acc: 0.9809\n",
            "Baseline Error: 1.91%\n",
            "Accuracy of Adamax model is 98.09 % \n"
          ],
          "name": "stdout"
        }
      ]
    },
    {
      "metadata": {
        "id": "A6z6tadSjG-z",
        "colab_type": "code",
        "colab": {
          "autoexec": {
            "startup": false,
            "wait_interval": 0
          },
          "output_extras": [
            {
              "item_id": 21
            }
          ],
          "base_uri": "https://localhost:8080/",
          "height": 408
        },
        "outputId": "02a92696-8701-47be-9223-3aeba8e2f344",
        "executionInfo": {
          "status": "ok",
          "timestamp": 1519662925372,
          "user_tz": -330,
          "elapsed": 58229,
          "user": {
            "displayName": "Ravindra Jonwal",
            "photoUrl": "//lh4.googleusercontent.com/-Zdd5G07d1to/AAAAAAAAAAI/AAAAAAAAAYg/4_TOX2VRjGQ/s50-c-k-no/photo.jpg",
            "userId": "100109715466188692487"
          }
        }
      },
      "cell_type": "code",
      "source": [
        "NadamHistory = Model(\"Nadam\",1)"
      ],
      "execution_count": 15,
      "outputs": [
        {
          "output_type": "stream",
          "text": [
            "Train on 60000 samples, validate on 10000 samples\n",
            "Epoch 1/10\n",
            " - 6s - loss: 0.2351 - acc: 0.9307 - val_loss: 0.1040 - val_acc: 0.9690\n",
            "Epoch 2/10\n",
            " - 6s - loss: 0.0834 - acc: 0.9751 - val_loss: 0.0734 - val_acc: 0.9782\n",
            "Epoch 3/10\n",
            " - 6s - loss: 0.0502 - acc: 0.9846 - val_loss: 0.0673 - val_acc: 0.9781\n",
            "Epoch 4/10\n",
            " - 6s - loss: 0.0333 - acc: 0.9898 - val_loss: 0.0619 - val_acc: 0.9798\n",
            "Epoch 5/10\n",
            " - 6s - loss: 0.0227 - acc: 0.9931 - val_loss: 0.0708 - val_acc: 0.9784\n",
            "Epoch 6/10\n",
            " - 6s - loss: 0.0150 - acc: 0.9958 - val_loss: 0.0587 - val_acc: 0.9827\n",
            "Epoch 7/10\n",
            " - 6s - loss: 0.0114 - acc: 0.9969 - val_loss: 0.0682 - val_acc: 0.9806\n",
            "Epoch 8/10\n",
            " - 6s - loss: 0.0097 - acc: 0.9971 - val_loss: 0.0648 - val_acc: 0.9821\n",
            "Epoch 9/10\n",
            " - 6s - loss: 0.0072 - acc: 0.9982 - val_loss: 0.0669 - val_acc: 0.9830\n",
            "Epoch 10/10\n",
            " - 6s - loss: 0.0070 - acc: 0.9980 - val_loss: 0.0699 - val_acc: 0.9821\n",
            "Baseline Error: 1.79%\n",
            "Accuracy of Nadam model is 98.21 % \n"
          ],
          "name": "stdout"
        }
      ]
    },
    {
      "metadata": {
        "id": "-H0AC6Rf5Fdc",
        "colab_type": "code",
        "colab": {
          "autoexec": {
            "startup": false,
            "wait_interval": 0
          },
          "output_extras": [
            {
              "item_id": 20
            }
          ],
          "base_uri": "https://localhost:8080/",
          "height": 408
        },
        "outputId": "3dd00132-677c-4766-905f-64a496ee9735",
        "executionInfo": {
          "status": "ok",
          "timestamp": 1519663022884,
          "user_tz": -330,
          "elapsed": 97466,
          "user": {
            "displayName": "Ravindra Jonwal",
            "photoUrl": "//lh4.googleusercontent.com/-Zdd5G07d1to/AAAAAAAAAAI/AAAAAAAAAYg/4_TOX2VRjGQ/s50-c-k-no/photo.jpg",
            "userId": "100109715466188692487"
          }
        }
      },
      "cell_type": "code",
      "source": [
        "#Adam optimizer with 2 layers\n",
        "AdamHistory2 = Model(\"Adam\",2)"
      ],
      "execution_count": 16,
      "outputs": [
        {
          "output_type": "stream",
          "text": [
            "Train on 60000 samples, validate on 10000 samples\n",
            "Epoch 1/10\n",
            " - 10s - loss: 0.2184 - acc: 0.9350 - val_loss: 0.1008 - val_acc: 0.9700\n",
            "Epoch 2/10\n",
            " - 9s - loss: 0.0756 - acc: 0.9767 - val_loss: 0.0725 - val_acc: 0.9781\n",
            "Epoch 3/10\n",
            " - 9s - loss: 0.0454 - acc: 0.9854 - val_loss: 0.0664 - val_acc: 0.9795\n",
            "Epoch 4/10\n",
            " - 9s - loss: 0.0312 - acc: 0.9899 - val_loss: 0.0635 - val_acc: 0.9819\n",
            "Epoch 5/10\n",
            " - 9s - loss: 0.0241 - acc: 0.9921 - val_loss: 0.0651 - val_acc: 0.9807\n",
            "Epoch 6/10\n",
            " - 10s - loss: 0.0164 - acc: 0.9946 - val_loss: 0.0758 - val_acc: 0.9792\n",
            "Epoch 7/10\n",
            " - 10s - loss: 0.0127 - acc: 0.9959 - val_loss: 0.0842 - val_acc: 0.9788\n",
            "Epoch 8/10\n",
            " - 10s - loss: 0.0136 - acc: 0.9955 - val_loss: 0.0725 - val_acc: 0.9810\n",
            "Epoch 9/10\n",
            " - 10s - loss: 0.0146 - acc: 0.9950 - val_loss: 0.0866 - val_acc: 0.9782\n",
            "Epoch 10/10\n",
            " - 9s - loss: 0.0127 - acc: 0.9960 - val_loss: 0.0832 - val_acc: 0.9796\n",
            "Baseline Error: 2.04%\n",
            "Accuracy of Adam model is 97.96000000000001 % \n"
          ],
          "name": "stdout"
        }
      ]
    },
    {
      "metadata": {
        "id": "FPnARazdxQvT",
        "colab_type": "code",
        "colab": {
          "autoexec": {
            "startup": false,
            "wait_interval": 0
          },
          "output_extras": [
            {
              "item_id": 21
            }
          ],
          "base_uri": "https://localhost:8080/",
          "height": 408
        },
        "outputId": "5d0147b5-cda7-4a58-912e-59d5c6b65249",
        "executionInfo": {
          "status": "ok",
          "timestamp": 1519663155651,
          "user_tz": -330,
          "elapsed": 132688,
          "user": {
            "displayName": "Ravindra Jonwal",
            "photoUrl": "//lh4.googleusercontent.com/-Zdd5G07d1to/AAAAAAAAAAI/AAAAAAAAAYg/4_TOX2VRjGQ/s50-c-k-no/photo.jpg",
            "userId": "100109715466188692487"
          }
        }
      },
      "cell_type": "code",
      "source": [
        "#Adam optimizer with 3 layers\n",
        "AdamHistory3 = Model(\"Adam\",3)"
      ],
      "execution_count": 17,
      "outputs": [
        {
          "output_type": "stream",
          "text": [
            "Train on 60000 samples, validate on 10000 samples\n",
            "Epoch 1/10\n",
            " - 13s - loss: 0.2089 - acc: 0.9367 - val_loss: 0.0968 - val_acc: 0.9699\n",
            "Epoch 2/10\n",
            " - 13s - loss: 0.0764 - acc: 0.9758 - val_loss: 0.0839 - val_acc: 0.9736\n",
            "Epoch 3/10\n",
            " - 13s - loss: 0.0504 - acc: 0.9840 - val_loss: 0.0643 - val_acc: 0.9789\n",
            "Epoch 4/10\n",
            " - 13s - loss: 0.0340 - acc: 0.9889 - val_loss: 0.0708 - val_acc: 0.9786\n",
            "Epoch 5/10\n",
            " - 13s - loss: 0.0273 - acc: 0.9909 - val_loss: 0.0816 - val_acc: 0.9771\n",
            "Epoch 6/10\n",
            " - 13s - loss: 0.0231 - acc: 0.9925 - val_loss: 0.0752 - val_acc: 0.9808\n",
            "Epoch 7/10\n",
            " - 13s - loss: 0.0196 - acc: 0.9938 - val_loss: 0.0766 - val_acc: 0.9799\n",
            "Epoch 8/10\n",
            " - 13s - loss: 0.0216 - acc: 0.9929 - val_loss: 0.0857 - val_acc: 0.9795\n",
            "Epoch 9/10\n",
            " - 13s - loss: 0.0149 - acc: 0.9952 - val_loss: 0.0927 - val_acc: 0.9767\n",
            "Epoch 10/10\n",
            " - 13s - loss: 0.0140 - acc: 0.9955 - val_loss: 0.0933 - val_acc: 0.9806\n",
            "Baseline Error: 1.94%\n",
            "Accuracy of Adam model is 98.06 % \n"
          ],
          "name": "stdout"
        }
      ]
    },
    {
      "metadata": {
        "id": "kfDIPfoja-Yj",
        "colab_type": "code",
        "colab": {
          "autoexec": {
            "startup": false,
            "wait_interval": 0
          }
        }
      },
      "cell_type": "code",
      "source": [
        "# list all data in history\n",
        "\n",
        "def history_opt(history):\n",
        "  \n",
        "  print(\"Accuracy Plot Of Adam Optimizer Model is\")\n",
        "  print(history.history.keys())\n",
        "  # summarize history for accuracy\n",
        "  plt.plot(history.history['acc'])\n",
        "  plt.plot(history.history['val_acc'])\n",
        "  plt.title('model accuracy')\n",
        "  plt.ylabel('accuracy')\n",
        "  plt.xlabel('epoch')\n",
        "  plt.legend(['train', 'test'], loc='upper left')\n",
        "  plt.show()\n",
        "  # summarize history for loss\n",
        "  plt.plot(history.history['loss'])\n",
        "  plt.plot(history.history['val_loss'])\n",
        "  plt.title('model loss')\n",
        "  plt.ylabel('loss')\n",
        "  plt.xlabel('epoch')\n",
        "  plt.legend(['train', 'test'], loc='upper right')\n",
        "  plt.show()"
      ],
      "execution_count": 0,
      "outputs": []
    },
    {
      "metadata": {
        "id": "jYr4APWuac1R",
        "colab_type": "code",
        "colab": {
          "autoexec": {
            "startup": false,
            "wait_interval": 0
          },
          "output_extras": [
            {
              "item_id": 1
            },
            {
              "item_id": 2
            },
            {
              "item_id": 3
            }
          ],
          "base_uri": "https://localhost:8080/",
          "height": 769
        },
        "outputId": "fcd9088b-6615-4a5b-93d0-4b7a6ba9d7c7",
        "executionInfo": {
          "status": "ok",
          "timestamp": 1519663183549,
          "user_tz": -330,
          "elapsed": 1596,
          "user": {
            "displayName": "Ravindra Jonwal",
            "photoUrl": "//lh4.googleusercontent.com/-Zdd5G07d1to/AAAAAAAAAAI/AAAAAAAAAYg/4_TOX2VRjGQ/s50-c-k-no/photo.jpg",
            "userId": "100109715466188692487"
          }
        }
      },
      "cell_type": "code",
      "source": [
        "\n",
        "#Plotting of Accuracy Model of Adam Optimizer with 1 hidden layer.\n",
        "history_opt(AdamHistory)"
      ],
      "execution_count": 20,
      "outputs": [
        {
          "output_type": "stream",
          "text": [
            "Accuracy Plot Of Adam Optimizer Model is\n",
            "dict_keys(['val_loss', 'val_acc', 'loss', 'acc'])\n"
          ],
          "name": "stdout"
        },
        {
          "output_type": "display_data",
          "data": {
            "image/png": "[encoded data removed]",
            "text/plain": [
              "<matplotlib.figure.Figure at 0x7f3e82a65470>"
            ]
          },
          "metadata": {
            "tags": []
          }
        },
        {
          "output_type": "display_data",
          "data": {
            "image/png": "[encoded data removed]",
            "text/plain": [
              "<matplotlib.figure.Figure at 0x7f3e803d2ef0>"
            ]
          },
          "metadata": {
            "tags": []
          }
        }
      ]
    },
    {
      "metadata": {
        "id": "zckXJ0drnxZt",
        "colab_type": "text"
      },
      "cell_type": "markdown",
      "source": [
        "**So from above we can conclude the Adam optimizer converges till it reaches 8 epochs so there is no point in increasing more epochs.**"
      ]
    }
  ]
}
