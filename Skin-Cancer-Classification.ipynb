{
 "cells": [
  {
   "cell_type": "code",
   "execution_count": 2,
   "metadata": {},
   "outputs": [
    {
     "name": "stderr",
     "output_type": "stream",
     "text": [
      "C:\\ProgramData\\Anaconda3\\lib\\site-packages\\h5py\\__init__.py:36: FutureWarning: Conversion of the second argument of issubdtype from `float` to `np.floating` is deprecated. In future, it will be treated as `np.float64 == np.dtype(float).type`.\n",
      "  from ._conv import register_converters as _register_converters\n",
      "Using TensorFlow backend.\n",
      "C:\\ProgramData\\Anaconda3\\lib\\site-packages\\sklearn\\cross_validation.py:41: DeprecationWarning: This module was deprecated in version 0.18 in favor of the model_selection module into which all the refactored classes and functions are moved. Also note that the interface of the new CV iterators are different from that of this module. This module will be removed in 0.20.\n",
      "  \"This module will be removed in 0.20.\", DeprecationWarning)\n"
     ]
    }
   ],
   "source": [
    "import argparse \n",
    "import cv2\n",
    "import numpy as np\n",
    "import os\n",
    "import glob\n",
    "import random\n",
    "import Utility\n",
    "from sklearn.metrics import confusion_matrix, accuracy_score\n",
    "from sklearn.naive_bayes import GaussianNB\n",
    "from sklearn.externals import joblib\n",
    "from scipy.cluster.vq import *\n",
    "from sklearn.preprocessing import StandardScaler\n",
    "import matplotlib.pyplot as plt\n",
    "from sklearn.externals import joblib\n",
    "import pandas as pd\n",
    "from keras.models import * \n",
    "from keras.layers import *\n",
    "\n",
    "import numpy as np\n",
    "import cv2\n",
    "from keras.preprocessing.image import array_to_img, img_to_array, load_img, ImageDataGenerator\n",
    "from scipy.misc import imresize\n",
    "import itertools\n",
    "\n",
    "from sklearn.cross_validation import train_test_split \n",
    "from keras.models import Model\n",
    "from keras.layers import Input, concatenate, Conv2D, MaxPooling2D, UpSampling2D, Reshape, core, Dropout\n",
    "from keras.optimizers import Adam\n",
    "from keras.callbacks import ModelCheckpoint, LearningRateScheduler\n",
    "from keras import backend as K\n",
    "from keras.utils.vis_utils import plot_model as plot\n",
    "from keras.optimizers import SGD"
   ]
  },
  {
   "cell_type": "code",
   "execution_count": 3,
   "metadata": {},
   "outputs": [],
   "source": [
    "import matplotlib.pyplot as plt\n",
    "%matplotlib inline"
   ]
  },
  {
   "cell_type": "markdown",
   "metadata": {},
   "source": [
    "# Loading the training data "
   ]
  },
  {
   "cell_type": "code",
   "execution_count": 4,
   "metadata": {},
   "outputs": [],
   "source": [
    "trainList = [\"Others\\others\",\"Melanoma\\melanoma1\",\"Melanoma\\melanoma2\",\"Melanoma\\melanoma3\",\"Melanoma\\melanoma4\"]\n",
    "class_id = 0\n",
    "class_path = []\n",
    "segs_path = []\n",
    "classes = []\n",
    "imgs_path = []\n",
    "paths = []\n",
    "Melanoma = []\n",
    "for training_name in trainList:\n",
    "    class_path = Utility.imlist(training_name)\n",
    "    paths += class_path\n",
    "    classes += [class_id] * len(class_path)\n",
    "    class_id += 1\n",
    "    if(class_id>1):\n",
    "        class_id=1\n",
    "    \n",
    "    "
   ]
  },
  {
   "cell_type": "markdown",
   "metadata": {},
   "source": [
    "# Loading the segmented image data"
   ]
  },
  {
   "cell_type": "code",
   "execution_count": 5,
   "metadata": {},
   "outputs": [],
   "source": [
    "path = \"Ground_truth\\\\gt\"\n",
    "gt_paths = []\n",
    "for pt in paths:\n",
    "    #print(pt)\n",
    "    newfile = pt.split(\"\\\\\")[-1][0:-4]+ \"_segmentation.png\"\n",
    "    newpath = path+\"\\\\\" + newfile\n",
    "    #print (newpath)\n",
    "    gt_paths.append(newpath)\n",
    "    "
   ]
  },
  {
   "cell_type": "code",
   "execution_count": 6,
   "metadata": {},
   "outputs": [
    {
     "data": {
      "text/plain": [
       "3122"
      ]
     },
     "execution_count": 6,
     "metadata": {},
     "output_type": "execute_result"
    }
   ],
   "source": [
    "len(gt_paths)"
   ]
  },
  {
   "cell_type": "code",
   "execution_count": 7,
   "metadata": {},
   "outputs": [],
   "source": [
    "#for data augmentation\n",
    "import shutil\n",
    "for pt in range(0,1626):\n",
    "    shutil.copy(gt_paths[pt],\"GT\\\\non_can\")"
   ]
  },
  {
   "cell_type": "code",
   "execution_count": 8,
   "metadata": {},
   "outputs": [],
   "source": [
    "#Melanoma Data is rotated along all the 4 directions \n",
    "path = [\"GT\\\\non_can\",\"GT\\\\gt1\",\"GT\\\\gt2\",\"GT\\\\gt3\",\"GT\\\\gt4\"]\n",
    "gt_paths = []\n",
    "\n",
    "i = 0\n",
    "j = 0 \n",
    "for pt in paths:\n",
    "    #print(pt)\n",
    "    newfile = pt.split(\"\\\\\")[-1][0:-4]+ \"_segmentation.png\"\n",
    "    \n",
    "    if(j==1626 or j == 2000 or j==2374 or j == 2748):\n",
    "        i = i + 1 \n",
    "    j = j + 1    \n",
    "    newpath = path[i] +\"\\\\\" + newfile\n",
    "    \n",
    "    #print (newpath)\n",
    "    gt_paths.append(newpath)"
   ]
  },
  {
   "cell_type": "code",
   "execution_count": 9,
   "metadata": {},
   "outputs": [],
   "source": [
    "norm_images = []\n",
    "seg_images = []\n",
    "for i in range(len(paths)):\n",
    "    im = cv2.imread(paths[i])\n",
    "    seg = cv2.imread(gt_paths[i],0)\n",
    "    norm_images.append(im)\n",
    "    seg_images.append(seg)"
   ]
  },
  {
   "cell_type": "markdown",
   "metadata": {},
   "source": [
    "# Get the new segmented images"
   ]
  },
  {
   "cell_type": "code",
   "execution_count": 10,
   "metadata": {},
   "outputs": [],
   "source": [
    "segmented = []\n",
    "\n",
    "for i in range(len(norm_images)):\n",
    "    img1 = cv2.resize(norm_images[i], (128,128))\n",
    "    img2 = cv2.resize(seg_images[i], (128,128))\n",
    "    \n",
    "    #print(img1.shape)\n",
    "    #print(img2.shape)\n",
    "    B,G,R = cv2.split(img1)\n",
    "    maskB = np.multiply(B,img2)\n",
    "    maskG = np.multiply(G,img2)\n",
    "    maskR = np.multiply(R,img2)\n",
    "    img = cv2.merge((maskB,maskG,maskR))\n",
    "    segmented.append(img)\n"
   ]
  },
  {
   "cell_type": "code",
   "execution_count": 11,
   "metadata": {},
   "outputs": [],
   "source": [
    "segemented = np.array(segmented)\n",
    "norm_images = np.array(norm_images)\n",
    "seg_images = np.array(seg_images)"
   ]
  },
  {
   "cell_type": "code",
   "execution_count": 69,
   "metadata": {},
   "outputs": [],
   "source": [
    "np.save(\"segemneted.npy\",segemented)\n",
    "np.save(\"norm_images.npy\",norm_images)\n",
    "np.save(\"seg_images.npy\",seg_images)"
   ]
  },
  {
   "cell_type": "code",
   "execution_count": 13,
   "metadata": {},
   "outputs": [
    {
     "data": {
      "text/plain": [
       "<matplotlib.image.AxesImage at 0x9376592390>"
      ]
     },
     "execution_count": 13,
     "metadata": {},
     "output_type": "execute_result"
    },
    {
     "data": {
      "image/png": "[encoded data removed]",
      "text/plain": [
       "<matplotlib.figure.Figure at 0x93764a84a8>"
      ]
     },
     "metadata": {},
     "output_type": "display_data"
    }
   ],
   "source": [
    "plt.subplot(1,2,1)\n",
    "plt.imshow(seg_images[0])\n",
    "\n",
    "plt.subplot(1,2,2)\n",
    "plt.imshow(segemented[0])"
   ]
  },
  {
   "cell_type": "markdown",
   "metadata": {},
   "source": [
    "# Divide data into testing and training"
   ]
  },
  {
   "cell_type": "code",
   "execution_count": 214,
   "metadata": {},
   "outputs": [],
   "source": [
    "other_seg = segemented[0:1326]\n",
    "mela_seg = segemented[1626:1950]\n",
    "mela_seg2 = segemented[2000:2324]\n",
    "mela_seg3 = segemented[2374:2698]\n",
    "mela_seg4 = segemented[2748:3072]\n",
    "x_train = np.concatenate((other_seg,mela_seg,mela_seg2,mela_seg3,mela_seg4),axis=0)"
   ]
  },
  {
   "cell_type": "code",
   "execution_count": 216,
   "metadata": {},
   "outputs": [],
   "source": [
    "other_segt = segemented[1326:1626]\n",
    "mela_segt = segemented[1950:2000]\n",
    "mela_seg2t = segemented[2324:2374]\n",
    "mela_seg3t = segemented[2698:2748]\n",
    "mela_seg4t = segemented[3072:3122]\n",
    "\n",
    "\n",
    "x_test = np.concatenate((other_segt,mela_segt,mela_seg2t,mela_seg3t,mela_seg4t),axis=0)"
   ]
  },
  {
   "cell_type": "code",
   "execution_count": 217,
   "metadata": {},
   "outputs": [
    {
     "data": {
      "text/plain": [
       "(500, 128, 128, 3)"
      ]
     },
     "execution_count": 217,
     "metadata": {},
     "output_type": "execute_result"
    }
   ],
   "source": [
    "x_test.shape"
   ]
  },
  {
   "cell_type": "code",
   "execution_count": 218,
   "metadata": {},
   "outputs": [],
   "source": [
    "y_train = np.concatenate((classes[:1326],classes[1626:1950],classes[2000:2324],classes[2374:2698],classes[2748:3072]),axis=0)\n",
    "y_test = np.concatenate((classes[1326:1626],classes[1950:2000],classes[2324:2374],classes[2698:2748],classes[3072:3122]),axis=0)"
   ]
  },
  {
   "cell_type": "code",
   "execution_count": 219,
   "metadata": {},
   "outputs": [
    {
     "data": {
      "text/plain": [
       "(500,)"
      ]
     },
     "execution_count": 219,
     "metadata": {},
     "output_type": "execute_result"
    }
   ],
   "source": [
    "y_test.shape"
   ]
  },
  {
   "cell_type": "code",
   "execution_count": 220,
   "metadata": {},
   "outputs": [],
   "source": [
    "from keras.utils import np_utils\n",
    "from keras.models import Sequential\n",
    "from sklearn.preprocessing import LabelEncoder\n",
    "\n",
    "y_train = LabelEncoder().fit_transform(y_train)\n",
    "y_train = np_utils.to_categorical(y_train)\n",
    "y_test = LabelEncoder().fit_transform(y_test)\n",
    "y_test = np_utils.to_categorical(y_test)"
   ]
  },
  {
   "cell_type": "code",
   "execution_count": 221,
   "metadata": {},
   "outputs": [
    {
     "data": {
      "text/plain": [
       "(500, 2)"
      ]
     },
     "execution_count": 221,
     "metadata": {},
     "output_type": "execute_result"
    }
   ],
   "source": [
    "y_test.shape"
   ]
  },
  {
   "cell_type": "markdown",
   "metadata": {},
   "source": [
    "# Build  a Keras model with 6 Layers"
   ]
  },
  {
   "cell_type": "code",
   "execution_count": 222,
   "metadata": {},
   "outputs": [
    {
     "name": "stderr",
     "output_type": "stream",
     "text": [
      "C:\\ProgramData\\Anaconda3\\lib\\site-packages\\ipykernel_launcher.py:9: UserWarning: Update your `Conv2D` call to the Keras 2 API: `Conv2D(32, (5, 5), activation=\"relu\", padding=\"same\", data_format=\"channels_last\")`\n",
      "  if __name__ == '__main__':\n",
      "C:\\ProgramData\\Anaconda3\\lib\\site-packages\\ipykernel_launcher.py:11: UserWarning: Update your `MaxPooling2D` call to the Keras 2 API: `MaxPooling2D(pool_size=(2, 2), data_format=\"channels_last\")`\n",
      "  # This is added back by InteractiveShellApp.init_path()\n",
      "C:\\ProgramData\\Anaconda3\\lib\\site-packages\\ipykernel_launcher.py:13: UserWarning: Update your `Conv2D` call to the Keras 2 API: `Conv2D(64, (3, 3), activation=\"relu\", padding=\"same\", data_format=\"channels_last\")`\n",
      "  del sys.path[0]\n",
      "C:\\ProgramData\\Anaconda3\\lib\\site-packages\\ipykernel_launcher.py:15: UserWarning: Update your `MaxPooling2D` call to the Keras 2 API: `MaxPooling2D(pool_size=(2, 2), data_format=\"channels_last\")`\n",
      "  from ipykernel import kernelapp as app\n"
     ]
    }
   ],
   "source": [
    "Optimizer=Adam(lr=0.001)\n",
    "objective='binary_crossentropy'\n",
    "def center_normalize(x):\n",
    "    return (x-K.mean(x))/K.std(x)\n",
    "model=Sequential()\n",
    "#input layer\n",
    "model.add(Activation(activation=center_normalize, input_shape=(128, 128,3)))\n",
    "# convolutional layer\n",
    "model.add(Convolution2D(32,5,5,border_mode='same',activation='relu',dim_ordering='tf'))\n",
    "#pooling layer\n",
    "model.add(MaxPooling2D(pool_size=(2,2),dim_ordering='tf'))\n",
    "# convolutional layer\n",
    "model.add(Convolution2D(64,3,3,border_mode='same',activation='relu',dim_ordering='tf'))\n",
    "# pooling layer\n",
    "model.add(MaxPooling2D(pool_size=(2,2),dim_ordering='tf'))\n",
    "model.add(Flatten())\n",
    "# Relu \n",
    "model.add(Dense(128, activation='relu'))\n",
    "# Sigmoid Fully connected layer\n",
    "model.add(Dense(2))\n",
    "model.add(Activation('sigmoid'))\n",
    "model.compile(loss=objective,optimizer=Optimizer,metrics=['accuracy',precision,recall,fmeasure])"
   ]
  },
  {
   "cell_type": "code",
   "execution_count": 223,
   "metadata": {},
   "outputs": [
    {
     "name": "stderr",
     "output_type": "stream",
     "text": [
      "C:\\ProgramData\\Anaconda3\\lib\\site-packages\\keras\\models.py:942: UserWarning: The `nb_epoch` argument in `fit` has been renamed `epochs`.\n",
      "  warnings.warn('The `nb_epoch` argument in `fit` '\n"
     ]
    },
    {
     "name": "stdout",
     "output_type": "stream",
     "text": [
      "Epoch 1/25\n",
      "2622/2622 [==============================] - 256s 98ms/step - loss: 0.9373 - acc: 0.5849 - precision: 0.5873 - recall: 0.6098 - fmeasure: 0.5865\n",
      "Epoch 2/25\n",
      "2622/2622 [==============================] - 173s 66ms/step - loss: 0.6215 - acc: 0.6630 - precision: 0.6673 - recall: 0.6503 - fmeasure: 0.6583\n",
      "Epoch 3/25\n",
      "2622/2622 [==============================] - 173s 66ms/step - loss: 0.5889 - acc: 0.6901 - precision: 0.6936 - recall: 0.6834 - fmeasure: 0.6876\n",
      "Epoch 4/25\n",
      "2622/2622 [==============================] - 204s 78ms/step - loss: 0.5497 - acc: 0.7265 - precision: 0.7268 - recall: 0.7265 - fmeasure: 0.7264\n",
      "Epoch 5/25\n",
      "2622/2622 [==============================] - 181s 69ms/step - loss: 0.4953 - acc: 0.7637 - precision: 0.7647 - recall: 0.7628 - fmeasure: 0.7636\n",
      "Epoch 6/25\n",
      "2622/2622 [==============================] - 211s 80ms/step - loss: 0.4608 - acc: 0.7815 - precision: 0.7816 - recall: 0.7818 - fmeasure: 0.7813\n",
      "Epoch 7/25\n",
      "2622/2622 [==============================] - 202s 77ms/step - loss: 0.4098 - acc: 0.8078 - precision: 0.8078 - recall: 0.8074 - fmeasure: 0.8075\n",
      "Epoch 8/25\n",
      "2622/2622 [==============================] - 195s 75ms/step - loss: 0.3729 - acc: 0.8312 - precision: 0.8311 - recall: 0.8310 - fmeasure: 0.8309\n",
      "Epoch 9/25\n",
      "2622/2622 [==============================] - 214s 82ms/step - loss: 0.3363 - acc: 0.8537 - precision: 0.8543 - recall: 0.8532 - fmeasure: 0.8536\n",
      "Epoch 10/25\n",
      "2622/2622 [==============================] - 197s 75ms/step - loss: 0.2763 - acc: 0.8928 - precision: 0.8946 - recall: 0.8905 - fmeasure: 0.8925\n",
      "Epoch 11/25\n",
      "2622/2622 [==============================] - 189s 72ms/step - loss: 0.2419 - acc: 0.9047 - precision: 0.9039 - recall: 0.9062 - fmeasure: 0.9048\n",
      "Epoch 12/25\n",
      "2622/2622 [==============================] - 196s 75ms/step - loss: 0.2208 - acc: 0.9153 - precision: 0.9154 - recall: 0.9153 - fmeasure: 0.9152\n",
      "Epoch 13/25\n",
      "2622/2622 [==============================] - 197s 75ms/step - loss: 0.1698 - acc: 0.9376 - precision: 0.9384 - recall: 0.9371 - fmeasure: 0.9377\n",
      "Epoch 14/25\n",
      "2622/2622 [==============================] - 178s 68ms/step - loss: 0.1268 - acc: 0.9641 - precision: 0.9660 - recall: 0.9622 - fmeasure: 0.9641\n",
      "Epoch 15/25\n",
      "2622/2622 [==============================] - 202s 77ms/step - loss: 0.0916 - acc: 0.9758 - precision: 0.9781 - recall: 0.9733 - fmeasure: 0.9757\n",
      "Epoch 16/25\n",
      "2622/2622 [==============================] - 206s 79ms/step - loss: 0.0631 - acc: 0.9811 - precision: 0.9821 - recall: 0.9802 - fmeasure: 0.9811\n",
      "Epoch 17/25\n",
      "2622/2622 [==============================] - 206s 79ms/step - loss: 0.0445 - acc: 0.9889 - precision: 0.9890 - recall: 0.9889 - fmeasure: 0.9889\n",
      "Epoch 18/25\n",
      "2622/2622 [==============================] - 188s 72ms/step - loss: 0.0300 - acc: 0.9935 - precision: 0.9935 - recall: 0.9935 - fmeasure: 0.9935\n",
      "Epoch 19/25\n",
      "2622/2622 [==============================] - 196s 75ms/step - loss: 0.0243 - acc: 0.9960 - precision: 0.9958 - recall: 0.9962 - fmeasure: 0.9960\n",
      "Epoch 20/25\n",
      "2622/2622 [==============================] - 192s 73ms/step - loss: 0.0197 - acc: 0.9966 - precision: 0.9969 - recall: 0.9962 - fmeasure: 0.9966\n",
      "Epoch 21/25\n",
      "2622/2622 [==============================] - 197s 75ms/step - loss: 0.0123 - acc: 0.9990 - precision: 0.9989 - recall: 0.9992 - fmeasure: 0.9990\n",
      "Epoch 22/25\n",
      "2622/2622 [==============================] - 212s 81ms/step - loss: 0.0068 - acc: 1.0000 - precision: 1.0000 - recall: 1.0000 - fmeasure: 1.0000\n",
      "Epoch 23/25\n",
      "2622/2622 [==============================] - 199s 76ms/step - loss: 0.0060 - acc: 1.0000 - precision: 1.0000 - recall: 1.0000 - fmeasure: 1.0000\n",
      "Epoch 24/25\n",
      "2622/2622 [==============================] - 197s 75ms/step - loss: 0.0075 - acc: 0.9994 - precision: 0.9996 - recall: 0.9992 - fmeasure: 0.9994\n",
      "Epoch 25/25\n",
      "2622/2622 [==============================] - 222s 85ms/step - loss: 0.0036 - acc: 1.0000 - precision: 1.0000 - recall: 1.0000 - fmeasure: 1.0000\n"
     ]
    },
    {
     "data": {
      "text/plain": [
       "<keras.callbacks.History at 0x5a82b176a0>"
      ]
     },
     "execution_count": 223,
     "metadata": {},
     "output_type": "execute_result"
    }
   ],
   "source": [
    "model.fit(x_train,y_train,batch_size=100,nb_epoch=25,verbose=1)\n"
   ]
  },
  {
   "cell_type": "code",
   "execution_count": 224,
   "metadata": {},
   "outputs": [],
   "source": [
    "from sklearn.metrics import classification_report\n",
    "Y_test = np.argmax(y_test,axis=1)"
   ]
  },
  {
   "cell_type": "code",
   "execution_count": 225,
   "metadata": {
    "scrolled": true
   },
   "outputs": [],
   "source": [
    "y_pred = model.predict_classes(x_test)"
   ]
  },
  {
   "cell_type": "code",
   "execution_count": 226,
   "metadata": {},
   "outputs": [
    {
     "data": {
      "text/plain": [
       "array([0, 0, 1, 1, 1, 0, 0, 0, 0, 0, 0, 0, 0, 1, 0, 0, 0, 0, 0, 0, 0, 0,\n",
       "       0, 1, 0, 0, 0, 0, 1, 1, 0, 0, 0, 1, 0, 0, 0, 1, 0, 1, 0, 0, 0, 0,\n",
       "       1, 0, 0, 0, 0, 0, 0, 0, 0, 0, 0, 0, 0, 0, 1, 0, 1, 0, 1, 0, 1, 0,\n",
       "       1, 1, 0, 1, 0, 1, 0, 0, 0, 0, 0, 0, 0, 1, 0, 0, 1, 1, 0, 1, 1, 0,\n",
       "       0, 1, 1, 1, 0, 0, 0, 0, 0, 0, 0, 1, 0, 0, 0, 0, 0, 1, 1, 1, 1, 0,\n",
       "       1, 0, 0, 1, 1, 1, 0, 0, 0, 0, 1, 0, 0, 0, 1, 1, 1, 1, 0, 0, 0, 0,\n",
       "       0, 0, 0, 0, 0, 0, 0, 0, 0, 1, 0, 1, 0, 1, 0, 1, 0, 1, 0, 1, 0, 0,\n",
       "       0, 0, 0, 0, 0, 0, 0, 1, 0, 0, 1, 1, 0, 0, 0, 0, 1, 1, 0, 0, 0, 0,\n",
       "       1, 0, 0, 0, 0, 0, 1, 1, 0, 0, 0, 1, 0, 0, 1, 1, 0, 1, 1, 0, 0, 1,\n",
       "       0, 0, 0, 1, 0, 1, 1, 0, 0, 1, 1, 0, 1, 0, 1, 0, 0, 1, 0, 0, 0, 0,\n",
       "       0, 1, 0, 0, 1, 0, 1, 0, 1, 1, 0, 0, 0, 1, 1, 1, 1, 1, 0, 0, 0, 0,\n",
       "       0, 1, 1, 0, 0, 1, 1, 1, 0, 0, 0, 0, 1, 0, 1, 0, 0, 0, 1, 0, 0, 1,\n",
       "       1, 1, 1, 0, 1, 0, 1, 1, 0, 0, 0, 0, 1, 0, 0, 0, 0, 0, 0, 0, 1, 1,\n",
       "       1, 1, 0, 1, 1, 1, 1, 0, 0, 0, 1, 1, 1, 1, 1, 1, 0, 0, 0, 0, 1, 0,\n",
       "       0, 0, 1, 1, 1, 0, 0, 1, 0, 1, 0, 1, 0, 0, 1, 1, 1, 1, 0, 1, 1, 1,\n",
       "       0, 0, 1, 0, 0, 1, 1, 0, 0, 1, 1, 0, 1, 0, 0, 0, 1, 1, 1, 0, 1, 1,\n",
       "       1, 1, 1, 1, 1, 1, 0, 0, 1, 1, 0, 1, 1, 0, 1, 1, 0, 1, 1, 1, 0, 1,\n",
       "       1, 1, 1, 1, 1, 1, 1, 1, 1, 1, 1, 1, 1, 1, 1, 1, 1, 1, 1, 1, 1, 1,\n",
       "       1, 1, 1, 1, 0, 1, 0, 0, 0, 0, 1, 1, 0, 0, 0, 1, 1, 0, 1, 0, 0, 1,\n",
       "       0, 1, 0, 0, 1, 1, 0, 1, 0, 1, 1, 1, 1, 0, 0, 0, 0, 1, 0, 1, 1, 1,\n",
       "       1, 1, 1, 0, 1, 0, 1, 0, 0, 1, 1, 1, 1, 1, 1, 1, 1, 1, 0, 1, 1, 1,\n",
       "       1, 0, 1, 1, 1, 1, 1, 1, 1, 1, 0, 1, 1, 1, 1, 1, 1, 1, 1, 0, 1, 1,\n",
       "       1, 1, 1, 1, 1, 1, 0, 0, 1, 1, 1, 0, 1, 1, 1, 1], dtype=int64)"
      ]
     },
     "execution_count": 226,
     "metadata": {},
     "output_type": "execute_result"
    }
   ],
   "source": [
    "y_pred"
   ]
  },
  {
   "cell_type": "markdown",
   "metadata": {},
   "source": [
    "# Final Classification Result"
   ]
  },
  {
   "cell_type": "code",
   "execution_count": 227,
   "metadata": {},
   "outputs": [
    {
     "name": "stdout",
     "output_type": "stream",
     "text": [
      "             precision    recall  f1-score   support\n",
      "\n",
      "          0       0.75      0.64      0.69       300\n",
      "          1       0.56      0.69      0.62       200\n",
      "\n",
      "avg / total       0.68      0.66      0.66       500\n",
      "\n"
     ]
    }
   ],
   "source": [
    "print(classification_report(Y_test,y_pred))"
   ]
  },
  {
   "cell_type": "code",
   "execution_count": 38,
   "metadata": {
    "scrolled": false
   },
   "outputs": [
    {
     "name": "stdout",
     "output_type": "stream",
     "text": [
      "_________________________________________________________________\n",
      "Layer (type)                 Output Shape              Param #   \n",
      "=================================================================\n",
      "activation_7 (Activation)    (None, 64, 64, 3)         0         \n",
      "_________________________________________________________________\n",
      "conv2d_7 (Conv2D)            (None, 64, 64, 32)        2432      \n",
      "_________________________________________________________________\n",
      "max_pooling2d_7 (MaxPooling2 (None, 32, 32, 32)        0         \n",
      "_________________________________________________________________\n",
      "conv2d_8 (Conv2D)            (None, 32, 32, 64)        18496     \n",
      "_________________________________________________________________\n",
      "max_pooling2d_8 (MaxPooling2 (None, 16, 16, 64)        0         \n",
      "_________________________________________________________________\n",
      "flatten_4 (Flatten)          (None, 16384)             0         \n",
      "_________________________________________________________________\n",
      "dense_7 (Dense)              (None, 128)               2097280   \n",
      "_________________________________________________________________\n",
      "dense_8 (Dense)              (None, 2)                 258       \n",
      "_________________________________________________________________\n",
      "activation_8 (Activation)    (None, 2)                 0         \n",
      "=================================================================\n",
      "Total params: 2,118,466\n",
      "Trainable params: 2,118,466\n",
      "Non-trainable params: 0\n",
      "_________________________________________________________________\n"
     ]
    }
   ],
   "source": [
    "model.summary()"
   ]
  },
  {
   "cell_type": "code",
   "execution_count": 18,
   "metadata": {},
   "outputs": [],
   "source": [
    "def precision(y_true, y_pred) :\n",
    "    \"\"\"\n",
    "   Precision metric.\n",
    "   Only computes a batch-wise average of precision.\n",
    "   Computes the precision, a metric for multi-label classification of\n",
    "   how many selected items are relevant.\n",
    "   \"\"\"\n",
    "    true_positives = K.sum(K.round(K.clip(y_true * y_pred, 0, 1)))\n",
    "    predicted_positives = K.sum(K.round(K.clip(y_pred, 0, 1)))\n",
    "    precision = true_positives / (predicted_positives + K.epsilon())\n",
    "    return precision"
   ]
  },
  {
   "cell_type": "code",
   "execution_count": 19,
   "metadata": {},
   "outputs": [],
   "source": [
    "def recall(y_true, y_pred) :\n",
    "    \"\"\"\n",
    "    Recall metric.\n",
    "    Only computes a batch-wise average of recall.\n",
    "    Computes the recall, a metric for multi-label classification of\n",
    "    how many relevant items are selected.\n",
    "     \"\"\"\n",
    "    true_positives = K.sum(K.round(K.clip(y_true * y_pred, 0, 1)))\n",
    "    possible_positives = K.sum(K.round(K.clip(y_true, 0, 1)))\n",
    "    recall = true_positives / (possible_positives + K.epsilon())\n",
    "    return recall"
   ]
  },
  {
   "cell_type": "code",
   "execution_count": 20,
   "metadata": {},
   "outputs": [],
   "source": [
    "def fmeasure(y_true, y_pred):\n",
    "    \"\"\"\n",
    "    Computes the f-score, the harmonic mean of precision and recall\n",
    "    \n",
    "    Here it is only computed batch-wise, not globally\n",
    "    \n",
    "    \"\"\"\n",
    "    return fbeta_score(y_true, y_pred, beta = 1)"
   ]
  },
  {
   "cell_type": "code",
   "execution_count": 21,
   "metadata": {},
   "outputs": [],
   "source": [
    "def fbeta_score(y_true, y_pred, beta = 1) :\n",
    "    \"\"\"Computes the F score.\n",
    "     The F score is the weighted harmonic mean of precision and recall.\n",
    "     Here it is only computed as a batch-wise average, not globally.\n",
    "     This is useful for multi-label classification, where input samples can be\n",
    "     classified as sets of labels. By only using accuracy (precision) a model\n",
    "     would achieve a perfect score by simply assigning every class to every\n",
    "     input. In order to avoid this, a metric should penalize incorrect class\n",
    "     assignments as well (recall). The F-beta score (ranged from 0.0 to 1.0)\n",
    "     computes this, as a weighted mean of the proportion of correct class\n",
    "     assignments vs. the proportion of incorrect class assignments.\n",
    "     With beta = 1, this is equivalent to a F-measure. With beta < 1, assigning\n",
    "     correct classes becomes more important, and with beta > 1 the metric is\n",
    "     instead weighted towards penalizing incorrect class assignments.\n",
    "    \"\"\"\n",
    "    if beta < 0:\n",
    "        raise ValueError('The lowest choosable beta is zero (only precision).')\n",
    "    if K.sum(K.round(K.clip(y_true, 0, 1))) == 0:\n",
    "        return 0\n",
    "    p = precision(y_true, y_pred)\n",
    "    r = recall(y_true, y_pred)\n",
    "    bb = beta ** 2\n",
    "    fbeta_score = (1 + bb) * (p * r) / (bb * p + r + K.epsilon())\n",
    "    return fbeta_score"
   ]
  },
  {
   "cell_type": "code",
   "execution_count": 22,
   "metadata": {},
   "outputs": [],
   "source": [
    "from keras.callbacks import Callback\n",
    "\n",
    "class Metrics(Callback):\n",
    "    def on_train_begin(self, logs={}):\n",
    "        self.val_f1s = []\n",
    "        self.val_recalls = []\n",
    "        self.val_precisions = []\n",
    " \n",
    "    def on_epoch_end(self, epoch, logs={}):\n",
    "        val_predict = (np.asarray(self.model.predict(self.model.x_test[0]))).round()\n",
    "        val_targ = self.model.y_test[1]\n",
    "        _val_f1 = f1_score(val_targ, val_predict)\n",
    "        _val_recall = recall_score(val_targ, val_predict)\n",
    "        _val_precision = precision_score(val_targ, val_predict)\n",
    "        self.val_f1s.append(_val_f1)\n",
    "        self.val_recalls.append(_val_recall)\n",
    "        self.val_precisions.append(_val_precision)\n",
    "        print (\" — val_f1: %f — val_precision: %f — val_recall %f\" %(_val_f1, _val_precision, _val_recall))\n",
    "        return"
   ]
  },
  {
   "cell_type": "code",
   "execution_count": 23,
   "metadata": {},
   "outputs": [],
   "source": [
    "metrics = Metrics()"
   ]
  },
  {
   "cell_type": "code",
   "execution_count": null,
   "metadata": {},
   "outputs": [],
   "source": []
  }
 ],
 "metadata": {
  "kernelspec": {
   "display_name": "Python 3",
   "language": "python",
   "name": "python3"
  },
  "language_info": {
   "codemirror_mode": {
    "name": "ipython",
    "version": 3
   },
   "file_extension": ".py",
   "mimetype": "text/x-python",
   "name": "python",
   "nbconvert_exporter": "python",
   "pygments_lexer": "ipython3",
   "version": "3.6.4"
  }
 },
 "nbformat": 4,
 "nbformat_minor": 2
}
